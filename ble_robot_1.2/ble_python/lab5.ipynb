{
 "cells": [
  {
   "cell_type": "code",
   "execution_count": 6,
   "id": "d6193627-9a04-478a-9759-788649c5b6f2",
   "metadata": {},
   "outputs": [
    {
     "name": "stdout",
     "output_type": "stream",
     "text": [
      "The autoreload extension is already loaded. To reload it, use:\n",
      "  %reload_ext autoreload\n"
     ]
    }
   ],
   "source": [
    "%load_ext autoreload\n",
    "%autoreload 2\n",
    "\n",
    "from ble import get_ble_controller\n",
    "from base_ble import LOG\n",
    "from cmd_types import CMD\n",
    "import time\n",
    "import numpy as np\n",
    "\n",
    "LOG.propagate = False"
   ]
  },
  {
   "cell_type": "code",
   "execution_count": 7,
   "id": "23e6b685-15e7-499a-9afc-bc7f223bceb8",
   "metadata": {},
   "outputs": [
    {
     "name": "stdout",
     "output_type": "stream",
     "text": [
      "2025-03-10 15:21:32,044 |\u001b[32m INFO     \u001b[0m|: Looking for Artemis Nano Peripheral Device: c0:83:24:6c:39:3c\n",
      "2025-03-10 15:21:37,146 |\u001b[32m INFO     \u001b[0m|: Connected to c0:83:24:6c:39:3c\n"
     ]
    },
    {
     "name": "stderr",
     "output_type": "stream",
     "text": [
      "C:\\Users\\Katyas Laptop\\Documents\\ECE5160\\ble_robot_1.2\\ble_python\\base_ble.py:104: FutureWarning: This method will be removed future version, pass the callback to the BleakClient constructor instead.\n",
      "  self.client.set_disconnected_callback(self.disconnect_handler)\n"
     ]
    }
   ],
   "source": [
    "# Get ArtemisBLEController object\n",
    "ble = get_ble_controller()\n",
    "\n",
    "# Connect to the Artemis Device\n",
    "ble.connect()"
   ]
  },
  {
   "cell_type": "code",
   "execution_count": 9,
   "id": "212026fb-943c-4c78-8150-a8d752eb8a82",
   "metadata": {},
   "outputs": [
    {
     "name": "stdout",
     "output_type": "stream",
     "text": [
      "2025-03-10 15:22:29,906 |\u001b[32m INFO     \u001b[0m|: Disconnected from C0:83:24:6C:39:3C\n"
     ]
    }
   ],
   "source": [
    "ble.disconnect()"
   ]
  },
  {
   "cell_type": "code",
   "execution_count": 8,
   "id": "ee92b03b-665b-4272-b111-50f19fd6032d",
   "metadata": {},
   "outputs": [
    {
     "ename": "AttributeError",
     "evalue": "type object 'CMD' has no attribute 'INITIAL_PID_DATA'",
     "output_type": "error",
     "traceback": [
      "\u001b[1;31m---------------------------------------------------------------------------\u001b[0m",
      "\u001b[1;31mAttributeError\u001b[0m                            Traceback (most recent call last)",
      "Cell \u001b[1;32mIn[8], line 1\u001b[0m\n\u001b[1;32m----> 1\u001b[0m ble\u001b[38;5;241m.\u001b[39msend_command(\u001b[43mCMD\u001b[49m\u001b[38;5;241;43m.\u001b[39;49m\u001b[43mINITIAL_PID_DATA\u001b[49m, \u001b[38;5;124m'\u001b[39m\u001b[38;5;124m1|304.8|0.1|0.0|0.0\u001b[39m\u001b[38;5;124m'\u001b[39m) \u001b[38;5;66;03m#[run_case, distance, Kp, Ki, Kd]\u001b[39;00m\n",
      "\u001b[1;31mAttributeError\u001b[0m: type object 'CMD' has no attribute 'INITIAL_PID_DATA'"
     ]
    }
   ],
   "source": [
    "ble.send_command(CMD.INITIAL_PID_DATA, '1|304.8|0.1|0.0|0.0') #[run_case, distance, Kp, Ki, Kd]"
   ]
  },
  {
   "cell_type": "code",
   "execution_count": null,
   "id": "b51037ac-8e95-4123-a10c-82dab6e68d68",
   "metadata": {},
   "outputs": [],
   "source": []
  }
 ],
 "metadata": {
  "kernelspec": {
   "display_name": "Python 3 (ipykernel)",
   "language": "python",
   "name": "python3"
  },
  "language_info": {
   "codemirror_mode": {
    "name": "ipython",
    "version": 3
   },
   "file_extension": ".py",
   "mimetype": "text/x-python",
   "name": "python",
   "nbconvert_exporter": "python",
   "pygments_lexer": "ipython3",
   "version": "3.13.2"
  }
 },
 "nbformat": 4,
 "nbformat_minor": 5
}
