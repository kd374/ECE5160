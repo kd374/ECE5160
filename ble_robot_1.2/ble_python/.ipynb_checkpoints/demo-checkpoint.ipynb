{
 "cells": [
  {
   "cell_type": "markdown",
   "metadata": {},
   "source": [
    "## Import necessary modules\n",
    "Run this cell before running any other cells"
   ]
  },
  {
   "cell_type": "code",
   "execution_count": 2,
   "metadata": {},
   "outputs": [
    {
     "name": "stdout",
     "output_type": "stream",
     "text": [
      "The autoreload extension is already loaded. To reload it, use:\n",
      "  %reload_ext autoreload\n"
     ]
    }
   ],
   "source": [
    "%load_ext autoreload\n",
    "%autoreload 2\n",
    "\n",
    "from ble import get_ble_controller\n",
    "from base_ble import LOG\n",
    "from cmd_types import CMD\n",
    "import time\n",
    "import numpy as np\n",
    "\n",
    "LOG.propagate = False"
   ]
  },
  {
   "cell_type": "code",
   "execution_count": 9,
   "metadata": {},
   "outputs": [
    {
     "data": {
      "text/plain": [
       "UUID('4eb4f62b-f99f-4bf7-b13d-767c28984196')"
      ]
     },
     "execution_count": 9,
     "metadata": {},
     "output_type": "execute_result"
    }
   ],
   "source": [
    "from uuid import uuid4\n",
    "uuid4()"
   ]
  },
  {
   "cell_type": "markdown",
   "metadata": {},
   "source": [
    "# Printing and Logging\n",
    "## Printing\n",
    "You can use the **print()** function in Python to print messages to the screen. <br>\n",
    "The message can be a string, or any other object, the object will be converted into a string before it is written to the screen. <br>\n",
    "\n",
    "## Logging\n",
    "You could use the logging module that is setup in *utils.py*. <br>\n",
    "It prints to both your screen (standard output) as well as to log files (*ble.log*) in the *logs* directory. <br>\n",
    "This is the recommended way to output messages, since the log files can help with debugging. <br>\n",
    "The logging module also provides different log levels as shown below, each formatted with a different color for increased visibility. <br>\n",
    "\n",
    "__**NOTE**__: You may notice that the DEBUG message is not printed to the screen but is printed in the log file. This is because the logging level for the screen is set to INFO and for the file is set to DEBUG. You can change the default log levels in *utils.py* (**STREAM_LOG_LEVEL** and **FILE_LOG_LEVEL**). \n",
    "\n",
    "## Formatting output\n",
    "To format your strings, you may use %-formatting, str.format() or f-strings. <br>\n",
    "The most \"pythonic\" way would be to use f-strings. [Here](https://realpython.com/python-f-strings/) is a good tutorial on f-strings. <br>"
   ]
  },
  {
   "cell_type": "code",
   "execution_count": 10,
   "metadata": {},
   "outputs": [
    {
     "name": "stdout",
     "output_type": "stream",
     "text": [
      "2025-02-13 17:05:57,019 |\u001b[32m INFO     \u001b[0m|: info\n",
      "2025-02-13 17:05:57,020 |\u001b[33m WARNING  \u001b[0m|: warning\n",
      "2025-02-13 17:05:57,022 |\u001b[31m ERROR    \u001b[0m|: error\n",
      "2025-02-13 17:05:57,024 |\u001b[31m\u001b[47m\u001b[1m CRITICAL \u001b[0m|: critical\n"
     ]
    }
   ],
   "source": [
    "LOG.debug(\"debug\")\n",
    "LOG.info(\"info\")\n",
    "LOG.warning(\"warning\")\n",
    "LOG.error(\"error\")\n",
    "LOG.critical(\"critical\")"
   ]
  },
  {
   "cell_type": "markdown",
   "metadata": {},
   "source": [
    "<hr>\n",
    "\n",
    "# BLE\n",
    "## ArtemisBLEController\n",
    "The class **ArtemisBLEController** (defined in *ble.py*) provides member functions to handle various BLE operations to send and receive data to/from the Artemis board, provided the accompanying Arduino sketch is running on the Artemis board. <br>\n",
    "\n",
    "<table align=\"left\">\n",
    "     <tr>\n",
    "        <th style=\"text-align: left; font-size: medium\">Member Functions</th>\n",
    "        <th style=\"text-align: left; font-size: medium\">Description</th style=\"text-align: left\">\n",
    "    </tr>\n",
    "    <tr>\n",
    "        <th style=\"text-align: left\"><span style=\"color:rgb(201,152,4);font-family:monospace\">reload_config()</span></th>\n",
    "        <th style=\"text-align: left\"><span style=\"font-weight: normal\">Reload changes made in <em>connection.yaml.</em></span></th style=\"text-align: left\">\n",
    "    </tr>\n",
    "    <tr>\n",
    "        <th style=\"text-align: left\"><span style=\"color:rgb(201,152,4);font-family:monospace\">connect()</span></th>\n",
    "        <th style=\"text-align: left\"><span style=\"font-weight: normal\">Connect to the Artemis board, whose MAC address is specified in <em>connection.yaml</em>.</span></th>\n",
    "    </tr>\n",
    "    <tr>\n",
    "        <th style=\"text-align: left\"><span style=\"color:rgb(201,152,4);font-family:monospace\">disconnect()</span></th>\n",
    "        <th style=\"text-align: left\"><span style=\"font-weight: normal\">Disconnect from the Artemis board.</span></th>\n",
    "    </tr>\n",
    "    <tr>\n",
    "        <th style=\"text-align: left\"><span style=\"color:rgb(201,152,4);font-family:monospace\">is_connected()</span></th>\n",
    "        <th style=\"text-align: left\"><span style=\"font-weight: normal\">Return a boolean indicating whether your controller is connected to the Artemis board or not.</span></th>\n",
    "    </tr>\n",
    "    <tr>\n",
    "        <th style=\"text-align: left\"><span style=\"color:rgb(201,152,4);font-family:monospace\">send_command(cmd_type, data)</span></th>\n",
    "        <th style=\"text-align: left\"><span style=\"font-weight: normal\">Send the command <strong>cmd_type</strong> (integer) with <strong>data</strong> (string) to the Artemis board.</span></th>\n",
    "    </tr>\n",
    "    <tr>\n",
    "        <th style=\"text-align: left\"><span style=\"color:rgb(201,152,4);font-family:monospace\">receive_float(uuid) <br> receive_string(uuid) <br> receive_int(uuid)</span></th>\n",
    "        <th style=\"text-align: left\"><span style=\"font-weight: normal\">Read the GATT characteristic (specified by its <strong>uuid</strong>) of type float, string or int. <br> The type of the GATT\n",
    "            characteristic is determined by the classes BLEFloatCharacteristic, BLECStringCharacteristic or\n",
    "            BLEIntCharacteristic in the Arduino sketch.</span></th>\n",
    "    </tr>\n",
    "    <tr>\n",
    "        <th style=\"text-align: left\"><span style=\"color:rgb(201,152,4);font-family:monospace\">start_notify(uuid, notification_handler)</span></th>\n",
    "        <th style=\"text-align: left\"><span style=\"font-weight: normal\">Activate notifications on the GATT characteristic (specified by its <strong>uuid</strong>). <br> <strong>notification_handler</strong> is a\n",
    "            function callback which must accept two inputs; the first will be a uuid string object and the second will\n",
    "            be the bytearray of the characteristic value.</span></th>\n",
    "    </tr>\n",
    "    <tr>\n",
    "        <th style=\"text-align: left\"><span style=\"color:rgb(201,152,4);font-family:monospace\">bytearray_to_float(byte_array) <br> bytearray_to_string(byte_array) <br> bytearray_to_int(byte_array)</span></th>\n",
    "        <th style=\"text-align: left\"><span style=\"font-weight: normal\">Convert the <strong>bytearray</strong> to float, string or int, respectively. <br> You may use these functions inside your\n",
    "            notification callback function.</span></th>\n",
    "    </tr>\n",
    "    <tr>\n",
    "        <th style=\"text-align: left\"><span style=\"color:rgb(201,152,4);font-family:monospace\">stop_notify(uuid)</span></th>\n",
    "        <th style=\"text-align: left\"><span style=\"font-weight: normal\">Stop notifications on the GATT characteristic (specified by its <strong>uuid</strong>).</span></th>\n",
    "    </tr>\n",
    "</table>\n",
    "\n",
    "<table align=\"left\">\n",
    "     <tr>\n",
    "        <th style=\"text-align: left; font-size: medium\">Member Variables</th>\n",
    "        <th style=\"text-align: left; font-size: medium\">Description</th style=\"text-align: left\">\n",
    "    </tr>\n",
    "    <tr>\n",
    "        <th style=\"text-align: left\"><span style=\"color:rgb(201,152,4);font-family:monospace\">uuid</span></th>\n",
    "        <th style=\"text-align: left\"><span style=\"font-weight: normal\">A dictionary that stores the UUIDs of the various characteristics specified in <em>connection.yaml</em>.</span></th>\n",
    "    </tr>\n",
    "</table>"
   ]
  },
  {
   "cell_type": "markdown",
   "metadata": {},
   "source": [
    "## Configuration\n",
    "- The MAC address, Service UUID and GATT characteristic UUIDs are defined in the file: *connection.yaml*.\n",
    "- They should match the UUIDs used in the Arduino sketch.\n",
    "- The artemis board running the base code should display its MAC address in the serial monitor.\n",
    "- Update the **artemis_address** in *connection.yaml*, accordingly.\n",
    "- Make sure to call **ble.reload_config()** or **get_ble_controller()** (which internally calls **reload_config()**) after making any changes to your configuration file.\n",
    "\n",
    "<hr>"
   ]
  },
  {
   "cell_type": "markdown",
   "metadata": {},
   "source": [
    "In the below cell, we create an **ArtemisBLEController** object using **get_ble_controller()** (defined in *ble.py*), which creates and/or returns a single instance of **ArtemisBLEController**. <br>\n",
    "<span style=\"color:rgb(240,50,50)\"> __NOTE__: Do not use the class directly to instantiate an object. </span><br>"
   ]
  },
  {
   "cell_type": "code",
   "execution_count": 3,
   "metadata": {},
   "outputs": [
    {
     "name": "stdout",
     "output_type": "stream",
     "text": [
      "2025-02-15 18:59:14,760 |\u001b[32m INFO     \u001b[0m|: Looking for Artemis Nano Peripheral Device: c0:83:24:6c:39:3c\n",
      "2025-02-15 18:59:20,122 |\u001b[32m INFO     \u001b[0m|: Connected to c0:83:24:6c:39:3c\n"
     ]
    },
    {
     "name": "stderr",
     "output_type": "stream",
     "text": [
      "C:\\Users\\Katyas Laptop\\Documents\\ECE5160\\ble_robot_1.2\\ble_python\\base_ble.py:104: FutureWarning: This method will be removed future version, pass the callback to the BleakClient constructor instead.\n",
      "  self.client.set_disconnected_callback(self.disconnect_handler)\n"
     ]
    }
   ],
   "source": [
    "# Get ArtemisBLEController object\n",
    "ble = get_ble_controller()\n",
    "\n",
    "# Connect to the Artemis Device\n",
    "ble.connect()"
   ]
  },
  {
   "cell_type": "markdown",
   "metadata": {},
   "source": [
    "## Receive data from the Artemis board"
   ]
  },
  {
   "cell_type": "code",
   "execution_count": null,
   "metadata": {},
   "outputs": [],
   "source": []
  },
  {
   "cell_type": "markdown",
   "metadata": {},
   "source": [
    "The cell below shows examples of reading different types (as defined in the Arduino sketch) of GATT characteristics."
   ]
  },
  {
   "cell_type": "code",
   "execution_count": 4,
   "metadata": {},
   "outputs": [
    {
     "name": "stdout",
     "output_type": "stream",
     "text": [
      "14.5\n"
     ]
    }
   ],
   "source": [
    "# Read a float GATT Charactersistic\n",
    "f = ble.receive_float(ble.uuid['RX_FLOAT'])\n",
    "print(f)"
   ]
  },
  {
   "cell_type": "code",
   "execution_count": 5,
   "metadata": {},
   "outputs": [
    {
     "name": "stdout",
     "output_type": "stream",
     "text": [
      "[->9.000<-]\n"
     ]
    }
   ],
   "source": [
    "# Read a string GATT Charactersistic\n",
    "s = ble.receive_string(ble.uuid['RX_STRING'])\n",
    "print(s)"
   ]
  },
  {
   "cell_type": "markdown",
   "metadata": {},
   "source": [
    "## Send a command to the Artemis board\n",
    "Send the PING command and read the reply string from the string characteristic RX_STRING. <br>\n",
    "__NOTE__: The **send_command()** essentially sends a string data to the GATT characteristic (TX_CMD_STRING). The GATT characteristic in the Arduino sketch is of type BLECStringCharacteristic."
   ]
  },
  {
   "cell_type": "code",
   "execution_count": 29,
   "metadata": {},
   "outputs": [
    {
     "name": "stdout",
     "output_type": "stream",
     "text": [
      "Current time is: PONG\n",
      "Current time is: PONG\n",
      "PONG\n"
     ]
    }
   ],
   "source": [
    "ble.send_command(CMD.PING, \"\")"
   ]
  },
  {
   "cell_type": "code",
   "execution_count": 30,
   "metadata": {},
   "outputs": [
    {
     "name": "stdout",
     "output_type": "stream",
     "text": [
      "PONG\n"
     ]
    }
   ],
   "source": [
    "s = ble.receive_string(ble.uuid['RX_STRING'])\n",
    "print(s)"
   ]
  },
  {
   "cell_type": "markdown",
   "metadata": {},
   "source": [
    "The cell below shows an example of the SEND_TWO_INTS command. <br> The two values in the **data** are separated by a delimiter \"|\". <br>\n",
    "Refer Lab 2 documentation for more information on the command protocol."
   ]
  },
  {
   "cell_type": "code",
   "execution_count": 31,
   "metadata": {},
   "outputs": [],
   "source": [
    "ble.send_command(CMD.SEND_TWO_INTS, \"2|-6\")"
   ]
  },
  {
   "cell_type": "markdown",
   "metadata": {},
   "source": [
    "The Artemis board should print the two integers to the serial monitor in the ArduinoIDE. "
   ]
  },
  {
   "cell_type": "code",
   "execution_count": 29,
   "metadata": {},
   "outputs": [],
   "source": [
    "ble.send_command(CMD.ECHO, \"HiHello\")"
   ]
  },
  {
   "cell_type": "code",
   "execution_count": 35,
   "metadata": {},
   "outputs": [],
   "source": [
    "ble.send_command(CMD.SEND_THREE_FLOATS, \"1.0| 2.0| 3.0\")"
   ]
  },
  {
   "cell_type": "code",
   "execution_count": 40,
   "metadata": {},
   "outputs": [
    {
     "name": "stdout",
     "output_type": "stream",
     "text": [
      "T: 39830\n"
     ]
    }
   ],
   "source": [
    "ble.send_command(CMD.GET_TIME_MILLIS, \"\")\n",
    "m = ble.receive_string(ble.uuid['RX_STRING'])\n",
    "print(m)"
   ]
  },
  {
   "cell_type": "code",
   "execution_count": 43,
   "metadata": {},
   "outputs": [
    {
     "name": "stdout",
     "output_type": "stream",
     "text": [
      "Number of timestamps is: \n",
      "Current time is: T: 1265669\n",
      "Current time is: T: 1265669\n",
      "Current time is: T: 1265669\n",
      "Current time is: T: 1265670\n",
      "Current time is: T: 1265716\n",
      "Current time is: T: 1265763\n",
      "Current time is: T: 1265763\n",
      "Current time is: T: 1265803\n",
      "Current time is: T: 1265803\n",
      "Current time is: T: 1265803\n",
      "Current time is: T: 1265847\n",
      "Current time is: T: 1265847\n",
      "Current time is: T: 1265894\n",
      "Current time is: T: 1265894\n",
      "Current time is: T: 1265894\n",
      "Current time is: T: 1265934\n",
      "Current time is: T: 1265940\n",
      "Current time is: T: 1265977\n",
      "Current time is: T: 1265987\n",
      "Current time is: T: 1265987\n",
      "Current time is: T: 1265987\n",
      "Current time is: T: 1266025\n",
      "Current time is: T: 1266025\n",
      "Current time is: T: 1266065\n",
      "Current time is: T: 1266071\n",
      "Current time is: T: 1266071\n",
      "Current time is: T: 1266109\n",
      "Current time is: T: 1266119\n",
      "Current time is: T: 1266119\n",
      "Current time is: T: 1266159\n",
      "Current time is: T: 1266159\n",
      "Current time is: T: 1266159\n",
      "Current time is: T: 1266199\n",
      "Current time is: T: 1266199\n",
      "Current time is: T: 1266240\n",
      "Current time is: T: 1266250\n",
      "Current time is: T: 1266250\n",
      "Current time is: T: 1266286\n",
      "Current time is: T: 1266286\n",
      "Current time is: T: 1266286\n",
      "Current time is: T: 1266334\n",
      "Current time is: T: 1266334\n",
      "Current time is: T: 1266373\n",
      "Current time is: T: 1266373\n",
      "Current time is: T: 1266373\n",
      "Current time is: T: 1266421\n",
      "Current time is: T: 1266421\n",
      "Current time is: T: 1266465\n",
      "Current time is: T: 1266465\n",
      "Current time is: T: 1266465\n",
      "Current time is: T: 1266506\n",
      "Current time is: T: 1266506\n",
      "Current time is: T: 1266546\n",
      "Current time is: T: 1266554\n",
      "Current time is: T: 1266554\n",
      "Current time is: T: 1266596\n",
      "Current time is: T: 1266596\n",
      "Current time is: T: 1266596\n",
      "Current time is: T: 1266640\n",
      "Current time is: T: 1266640\n",
      "Current time is: T: 1266684\n",
      "Current time is: T: 1266684\n",
      "Current time is: T: 1266684\n",
      "Current time is: T: 1266727\n",
      "Current time is: T: 1266727\n",
      "Current time is: T: 1266773\n",
      "Current time is: T: 1266773\n",
      "Current time is: T: 1266773\n",
      "Current time is: T: 1266816\n",
      "Current time is: T: 1266816\n",
      "Current time is: T: 1266861\n",
      "Current time is: T: 1266861\n",
      "Current time is: T: 1266861\n",
      "Current time is: T: 1266899\n",
      "Current time is: T: 1266908\n",
      "Current time is: T: 1266944\n",
      "Current time is: T: 1266944\n",
      "Current time is: T: 1266944\n",
      "Current time is: T: 1266944\n",
      "Current time is: T: 1266990\n",
      "Current time is: T: 1267035\n",
      "Current time is: T: 1267035\n",
      "Current time is: T: 1267078\n",
      "Current time is: T: 1267078\n",
      "Current time is: T: 1267078\n",
      "Current time is: T: 1267125\n",
      "Current time is: T: 1267125\n",
      "Current time is: T: 1267162\n",
      "Current time is: T: 1267171\n",
      "Current time is: T: 1267171\n",
      "Current time is: T: 1267210\n",
      "Current time is: T: 1267210\n",
      "Current time is: T: 1267210\n",
      "Current time is: T: 1267257\n",
      "Current time is: T: 1267257\n",
      "Current time is: T: 1267300\n",
      "Current time is: T: 1267300\n",
      "Current time is: T: 1267300\n",
      "Current time is: T: 1267341\n",
      "Current time is: T: 1267341\n",
      "Current time is: T: 1267386\n",
      "Current time is: T: 1267386\n",
      "Current time is: T: 1267386\n",
      "Current time is: T: 1267428\n",
      "Current time is: T: 1267428\n",
      "Current time is: T: 1267475\n",
      "Current time is: T: 1267475\n",
      "Current time is: T: 1267475\n",
      "Current time is: T: 1267518\n",
      "Current time is: T: 1267518\n",
      "Current time is: T: 1267561\n",
      "Current time is: T: 1267561\n",
      "Current time is: T: 1267561\n",
      "Current time is: T: 1267604\n",
      "Current time is: T: 1267604\n",
      "Current time is: T: 1267648\n",
      "Current time is: T: 1267648\n",
      "Current time is: T: 1267648\n",
      "Current time is: T: 1267688\n",
      "Current time is: T: 1267697\n",
      "Current time is: T: 1267732\n",
      "Current time is: T: 1267741\n",
      "Current time is: T: 1267741\n",
      "Current time is: T: 1267741\n",
      "Current time is: T: 1267776\n",
      "Current time is: T: 1267782\n",
      "Current time is: T: 1267821\n",
      "Current time is: T: 1267821\n",
      "Current time is: T: 1267821\n",
      "Current time is: T: 1267821\n",
      "Current time is: T: 1267871\n",
      "Current time is: T: 1267912\n",
      "Current time is: T: 1267912\n",
      "Current time is: T: 1267957\n",
      "Current time is: T: 1267957\n",
      "Current time is: T: 1267957\n",
      "Current time is: T: 1267999\n",
      "Current time is: T: 1267999\n",
      "Current time is: T: 1268045\n",
      "Current time is: T: 1268045\n",
      "Current time is: T: 1268045\n",
      "Current time is: T: 1268083\n",
      "Current time is: T: 1268089\n",
      "Current time is: T: 1268133\n",
      "Current time is: T: 1268133\n",
      "Current time is: T: 1268133\n",
      "Current time is: T: 1268133\n",
      "Current time is: T: 1268172\n",
      "Current time is: T: 1268220\n",
      "Current time is: T: 1268220\n",
      "Current time is: T: 1268264\n",
      "Current time is: T: 1268264\n",
      "Current time is: T: 1268264\n",
      "Current time is: T: 1268304\n",
      "Current time is: T: 1268304\n",
      "Current time is: T: 1268351\n",
      "Current time is: T: 1268351\n",
      "Current time is: T: 1268351\n",
      "Current time is: T: 1268394\n",
      "Current time is: T: 1268394\n",
      "Current time is: T: 1268436\n",
      "Current time is: T: 1268436\n",
      "Current time is: T: 1268436\n",
      "Current time is: T: 1268479\n",
      "Current time is: T: 1268479\n",
      "Current time is: T: 1268522\n",
      "Current time is: T: 1268531\n",
      "Current time is: T: 1268531\n",
      "Current time is: T: 1268572\n",
      "Current time is: T: 1268572\n",
      "Current time is: T: 1268572\n",
      "Current time is: T: 1268617\n",
      "Current time is: T: 1268617\n",
      "Current time is: T: 1268657\n",
      "Current time is: T: 1268657\n",
      "Current time is: T: 1268657\n",
      "Current time is: T: 1268704\n",
      "Current time is: T: 1268704\n",
      "Current time is: T: 1268740\n",
      "Current time is: T: 1268750\n",
      "Current time is: T: 1268750\n",
      "Current time is: T: 1268788\n",
      "Current time is: T: 1268788\n",
      "Current time is: T: 1268788\n",
      "Current time is: T: 1268829\n",
      "Current time is: T: 1268835\n",
      "Current time is: T: 1268874\n",
      "Current time is: T: 1268874\n",
      "Current time is: T: 1268874\n",
      "Current time is: T: 1268874\n",
      "Current time is: T: 1268917\n",
      "Current time is: T: 1268962\n",
      "Current time is: T: 1268962\n",
      "Current time is: T: 1269005\n",
      "Current time is: T: 1269005\n",
      "Current time is: T: 1269005\n",
      "Current time is: T: 1269050\n",
      "Current time is: T: 1269050\n",
      "Current time is: T: 1269099\n",
      "Current time is: T: 1269099\n",
      "Current time is: T: 1269099\n",
      "Current time is: T: 1269137\n",
      "Current time is: T: 1269137\n",
      "Current time is: T: 1269184\n",
      "Current time is: T: 1269184\n",
      "Current time is: T: 1269184\n",
      "Current time is: T: 1269224\n",
      "Current time is: T: 1269233\n",
      "Current time is: T: 1269271\n",
      "Current time is: T: 1269271\n",
      "Current time is: T: 1269271\n",
      "Current time is: T: 1269271\n",
      "Current time is: T: 1269312\n",
      "Current time is: T: 1269357\n",
      "Current time is: T: 1269357\n",
      "Current time is: T: 1269406\n",
      "Current time is: T: 1269406\n",
      "Current time is: T: 1269406\n",
      "Current time is: T: 1269448\n",
      "Current time is: T: 1269448\n",
      "Current time is: T: 1269486\n",
      "Current time is: T: 1269496\n",
      "Current time is: T: 1269496\n",
      "Current time is: T: 1269535\n",
      "Current time is: T: 1269535\n",
      "Current time is: T: 1269535\n",
      "Current time is: T: 1269581\n",
      "Current time is: T: 1269581\n",
      "Current time is: T: 1269626\n",
      "Current time is: T: 1269626\n",
      "Current time is: T: 1269626\n",
      "Current time is: T: 1269666\n",
      "Current time is: T: 1269666\n",
      "Current time is: T: 1269710\n",
      "Current time is: T: 1269710\n",
      "Current time is: T: 1269710\n",
      "Current time is: T: 1269756\n",
      "Current time is: T: 1269756\n",
      "Current time is: T: 1269797\n",
      "Current time is: T: 1269797\n",
      "Current time is: T: 1269797\n",
      "Current time is: T: 1269840\n",
      "Current time is: T: 1269840\n",
      "Current time is: T: 1269882\n",
      "Current time is: T: 1269882\n",
      "Current time is: T: 1269882\n",
      "Current time is: T: 1269932\n",
      "Current time is: T: 1269932\n",
      "Current time is: T: 1269969\n",
      "Current time is: T: 1269978\n",
      "Current time is: T: 1269978\n",
      "Current time is: T: 1270013\n",
      "Current time is: T: 1270019\n",
      "Current time is: T: 1270019\n",
      "Current time is: T: 1270060\n",
      "Current time is: T: 1270060\n",
      "Current time is: T: 1270060\n",
      "Current time is: T: 1270108\n",
      "Current time is: T: 1270108\n",
      "Current time is: T: 1270148\n",
      "Current time is: T: 1270148\n",
      "Current time is: T: 1270148\n",
      "Current time is: T: 1270195\n",
      "Current time is: T: 1270195\n",
      "Current time is: T: 1270233\n",
      "Current time is: T: 1270233\n",
      "Current time is: T: 1270233\n",
      "Current time is: T: 1270281\n",
      "Current time is: T: 1270281\n",
      "Current time is: T: 1270321\n",
      "Current time is: T: 1270321\n",
      "Current time is: T: 1270321\n",
      "Current time is: T: 1270367\n",
      "Current time is: T: 1270367\n",
      "Current time is: T: 1270412\n",
      "Current time is: T: 1270412\n",
      "Current time is: T: 1270412\n",
      "Current time is: T: 1270458\n",
      "Current time is: T: 1270458\n",
      "Current time is: T: 1270500\n",
      "Current time is: T: 1270500\n",
      "Current time is: T: 1270500\n",
      "Current time is: T: 1270544\n",
      "Current time is: T: 1270544\n",
      "Current time is: T: 1270590\n",
      "Current time is: T: 1270590\n",
      "Current time is: T: 1270590\n",
      "Current time is: T: 1270634\n",
      "Current time is: T: 1270634\n",
      "Current time is: T: 1270674\n",
      "Current time is: T: 1270674\n",
      "Current time is: T: 1270674\n",
      "Current time is: T: 1270719\n",
      "Current time is: T: 1270719\n",
      "Current time is: T: 1270766\n",
      "Current time is: T: 1270766\n",
      "Current time is: T: 1270766\n",
      "Current time is: T: 1270804\n",
      "Current time is: T: 1270804\n",
      "Current time is: T: 1270854\n",
      "Current time is: T: 1270854\n",
      "Current time is: T: 1270854\n",
      "Current time is: T: 1270895\n",
      "Current time is: T: 1270895\n",
      "Current time is: T: 1270938\n",
      "Current time is: T: 1270938\n",
      "Current time is: T: 1270938\n",
      "Current time is: T: 1270982\n",
      "Current time is: T: 1270982\n",
      "Current time is: T: 1271027\n",
      "Current time is: T: 1271027\n",
      "Current time is: T: 1271027\n",
      "Current time is: T: 1271067\n",
      "Current time is: T: 1271067\n",
      "Current time is: T: 1271114\n",
      "Current time is: T: 1271114\n",
      "Current time is: T: 1271114\n",
      "Current time is: T: 1271155\n",
      "Current time is: T: 1271155\n",
      "Current time is: T: 1271202\n",
      "Current time is: T: 1271202\n",
      "Current time is: T: 1271202\n",
      "Current time is: T: 1271247\n",
      "Current time is: T: 1271247\n",
      "Current time is: T: 1271287\n",
      "Current time is: T: 1271287\n",
      "Current time is: T: 1271287\n",
      "Current time is: T: 1271332\n",
      "Current time is: T: 1271332\n",
      "Current time is: T: 1271372\n",
      "Current time is: T: 1271382\n",
      "Current time is: T: 1271382\n",
      "Current time is: T: 1271422\n",
      "Current time is: T: 1271422\n",
      "Current time is: T: 1271422\n",
      "Current time is: T: 1271462\n",
      "Current time is: T: 1271462\n",
      "Current time is: T: 1271507\n",
      "Current time is: T: 1271507\n",
      "Current time is: T: 1271507\n",
      "Current time is: T: 1271552\n",
      "Current time is: T: 1271552\n",
      "Current time is: T: 1271600\n",
      "Current time is: T: 1271600\n",
      "Current time is: T: 1271600\n",
      "Current time is: T: 1271642\n",
      "Current time is: T: 1271642\n",
      "Current time is: T: 1271684\n",
      "Current time is: T: 1271684\n",
      "Current time is: T: 1271684\n",
      "Current time is: T: 1271724\n",
      "Current time is: T: 1271730\n",
      "Current time is: T: 1271767\n",
      "Current time is: T: 1271777\n",
      "Current time is: T: 1271777\n",
      "Current time is: T: 1271777\n",
      "Current time is: T: 1271812\n",
      "Current time is: T: 1271821\n",
      "Current time is: T: 1271863\n",
      "Current time is: T: 1271863\n",
      "Current time is: T: 1271863\n",
      "Current time is: T: 1271863\n",
      "Current time is: T: 1271900\n",
      "Current time is: T: 1271945\n",
      "Current time is: T: 1271945\n",
      "Current time is: T: 1271989\n",
      "Current time is: T: 1271989\n",
      "Current time is: T: 1271989\n",
      "Current time is: T: 1272038\n",
      "Current time is: T: 1272038\n",
      "Current time is: T: 1272080\n",
      "Current time is: T: 1272080\n",
      "Current time is: T: 1272080\n",
      "Current time is: T: 1272121\n",
      "Current time is: T: 1272121\n",
      "Current time is: T: 1272168\n",
      "Current time is: T: 1272168\n",
      "Current time is: T: 1272168\n",
      "Current time is: T: 1272211\n",
      "Current time is: T: 1272211\n",
      "Current time is: T: 1272253\n",
      "Current time is: T: 1272253\n",
      "Current time is: T: 1272253\n",
      "Current time is: T: 1272293\n",
      "Current time is: T: 1272301\n",
      "Current time is: T: 1272339\n",
      "Current time is: T: 1272339\n",
      "Current time is: T: 1272339\n",
      "Current time is: T: 1272384\n",
      "Current time is: T: 1272384\n",
      "Current time is: T: 1272425\n",
      "Current time is: T: 1272433\n",
      "Current time is: T: 1272433\n",
      "Current time is: T: 1272472\n",
      "Current time is: T: 1272472\n",
      "Current time is: T: 1272472\n",
      "Current time is: T: 1272519\n",
      "Current time is: T: 1272519\n",
      "Current time is: T: 1272560\n",
      "Current time is: T: 1272560\n",
      "Current time is: T: 1272560\n",
      "Current time is: T: 1272610\n",
      "Current time is: T: 1272610\n",
      "Current time is: T: 1272644\n",
      "Current time is: T: 1272652\n",
      "Current time is: T: 1272652\n",
      "Current time is: 406\n"
     ]
    }
   ],
   "source": [
    "ble.send_command(CMD.TIME_LOOP, \"\")\n",
    "print(\"Number of timestamps is: \")"
   ]
  },
  {
   "cell_type": "code",
   "execution_count": 31,
   "metadata": {},
   "outputs": [],
   "source": [
    "def notification_handler(uuid, array):\n",
    "    string = ble.bytearray_to_string(array)\n",
    "    print(f'Current time is: {string}')\n",
    "ble.start_notify(ble.uuid['RX_STRING'], notification_handler)\n"
   ]
  },
  {
   "cell_type": "code",
   "execution_count": 33,
   "metadata": {},
   "outputs": [
    {
     "name": "stdout",
     "output_type": "stream",
     "text": [
      "Current time is: T: 186805\n",
      "Current time is: T: 186805\n",
      "T: 186805\n",
      "Current time is: T: 186805\n"
     ]
    }
   ],
   "source": [
    "ble.send_command(CMD.GET_TIME_MILLIS, \"\")"
   ]
  },
  {
   "cell_type": "code",
   "execution_count": 7,
   "metadata": {},
   "outputs": [
    {
     "name": "stderr",
     "output_type": "stream",
     "text": [
      "Exception in callback notification_handler()() at C:\\Users\\Katyas Laptop\\AppData\\Local\\Temp\\ipykernel_3000\\1333012908.py:7\n",
      "handle: <Handle notification_handler()() at C:\\Users\\Katyas Laptop\\AppData\\Local\\Temp\\ipykernel_3000\\1333012908.py:7>\n",
      "Traceback (most recent call last):\n",
      "  File \"C:\\Program Files\\WindowsApps\\PythonSoftwareFoundation.Python.3.13_3.13.752.0_x64__qbz5n2kfra8p0\\Lib\\asyncio\\events.py\", line 89, in _run\n",
      "    self._context.run(self._callback, *self._args)\n",
      "    ~~~~~~~~~~~~~~~~~^^^^^^^^^^^^^^^^^^^^^^^^^^^^^\n",
      "  File \"C:\\Users\\Katyas Laptop\\AppData\\Local\\Temp\\ipykernel_3000\\1333012908.py\", line 10, in notification_handler\n",
      "    message.append(received_data)\n",
      "    ^^^^^^^\n",
      "NameError: name 'message' is not defined\n"
     ]
    }
   ],
   "source": [
    "ble.send_command(CMD.SEND_TIME_DATA, \"\")"
   ]
  },
  {
   "cell_type": "code",
   "execution_count": 6,
   "metadata": {},
   "outputs": [],
   "source": [
    "ble.send_command(CMD.GET_TEMP_READINGS, \"\")"
   ]
  },
  {
   "cell_type": "code",
   "execution_count": 103,
   "metadata": {},
   "outputs": [
    {
     "name": "stdout",
     "output_type": "stream",
     "text": [
      "Requirement already satisfied: matplotlib in c:\\users\\katyas laptop\\documents\\ece5160\\fastrobots_ble\\lib\\site-packages (3.10.0)\n",
      "Requirement already satisfied: contourpy>=1.0.1 in c:\\users\\katyas laptop\\documents\\ece5160\\fastrobots_ble\\lib\\site-packages (from matplotlib) (1.3.1)\n",
      "Requirement already satisfied: cycler>=0.10 in c:\\users\\katyas laptop\\documents\\ece5160\\fastrobots_ble\\lib\\site-packages (from matplotlib) (0.12.1)\n",
      "Requirement already satisfied: fonttools>=4.22.0 in c:\\users\\katyas laptop\\documents\\ece5160\\fastrobots_ble\\lib\\site-packages (from matplotlib) (4.55.8)\n",
      "Requirement already satisfied: kiwisolver>=1.3.1 in c:\\users\\katyas laptop\\documents\\ece5160\\fastrobots_ble\\lib\\site-packages (from matplotlib) (1.4.8)\n",
      "Requirement already satisfied: numpy>=1.23 in c:\\users\\katyas laptop\\documents\\ece5160\\fastrobots_ble\\lib\\site-packages (from matplotlib) (2.2.2)\n",
      "Requirement already satisfied: packaging>=20.0 in c:\\users\\katyas laptop\\documents\\ece5160\\fastrobots_ble\\lib\\site-packages (from matplotlib) (24.2)\n",
      "Requirement already satisfied: pillow>=8 in c:\\users\\katyas laptop\\documents\\ece5160\\fastrobots_ble\\lib\\site-packages (from matplotlib) (11.1.0)\n",
      "Requirement already satisfied: pyparsing>=2.3.1 in c:\\users\\katyas laptop\\documents\\ece5160\\fastrobots_ble\\lib\\site-packages (from matplotlib) (3.2.1)\n",
      "Requirement already satisfied: python-dateutil>=2.7 in c:\\users\\katyas laptop\\documents\\ece5160\\fastrobots_ble\\lib\\site-packages (from matplotlib) (2.9.0.post0)\n",
      "Requirement already satisfied: six>=1.5 in c:\\users\\katyas laptop\\documents\\ece5160\\fastrobots_ble\\lib\\site-packages (from python-dateutil>=2.7->matplotlib) (1.17.0)\n",
      "Note: you may need to restart the kernel to use updated packages.\n"
     ]
    }
   ],
   "source": [
    "pip install matplotlib"
   ]
  },
  {
   "cell_type": "code",
   "execution_count": 49,
   "metadata": {},
   "outputs": [
    {
     "name": "stdout",
     "output_type": "stream",
     "text": [
      "Sending 5 bytes...\n",
      "Received Data Size: 10, Data Rate: 33.80 bytes/s\n",
      "Time taken: 0.14793 seconds\n",
      "\n",
      "Sending 10 bytes...\n",
      "Received Data Size: 10, Data Rate: 57.82 bytes/s\n",
      "Time taken: 0.17296 seconds\n",
      "\n",
      "Sending 15 bytes...\n",
      "Received Data Size: 10, Data Rate: 85.70 bytes/s\n",
      "Time taken: 0.17502 seconds\n",
      "\n",
      "Sending 20 bytes...\n",
      "Received Data Size: 10, Data Rate: 91.40 bytes/s\n",
      "Time taken: 0.21882 seconds\n",
      "\n",
      "Sending 25 bytes...\n",
      "Received Data Size: 10, Data Rate: 114.35 bytes/s\n",
      "Time taken: 0.21863 seconds\n",
      "\n",
      "Sending 30 bytes...\n",
      "Received Data Size: 10, Data Rate: 137.74 bytes/s\n",
      "Time taken: 0.21780 seconds\n",
      "\n",
      "Sending 35 bytes...\n",
      "Received Data Size: 10, Data Rate: 159.87 bytes/s\n",
      "Time taken: 0.21893 seconds\n",
      "\n",
      "Sending 40 bytes...\n",
      "Received Data Size: 10, Data Rate: 182.39 bytes/s\n",
      "Time taken: 0.21931 seconds\n",
      "\n",
      "Sending 45 bytes...\n",
      "Received Data Size: 10, Data Rate: 171.90 bytes/s\n",
      "Time taken: 0.26178 seconds\n",
      "\n",
      "Sending 50 bytes...\n",
      "Received Data Size: 10, Data Rate: 190.30 bytes/s\n",
      "Time taken: 0.26274 seconds\n",
      "\n",
      "Sending 55 bytes...\n",
      "Received Data Size: 10, Data Rate: 209.81 bytes/s\n",
      "Time taken: 0.26214 seconds\n",
      "\n",
      "Sending 60 bytes...\n",
      "Received Data Size: 10, Data Rate: 228.53 bytes/s\n",
      "Time taken: 0.26254 seconds\n",
      "\n",
      "Sending 65 bytes...\n",
      "Received Data Size: 10, Data Rate: 247.91 bytes/s\n",
      "Time taken: 0.26219 seconds\n",
      "\n",
      "Sending 70 bytes...\n",
      "Received Data Size: 10, Data Rate: 229.09 bytes/s\n",
      "Time taken: 0.30556 seconds\n",
      "\n",
      "Sending 75 bytes...\n",
      "Received Data Size: 10, Data Rate: 244.88 bytes/s\n",
      "Time taken: 0.30627 seconds\n",
      "\n",
      "Sending 80 bytes...\n",
      "Received Data Size: 10, Data Rate: 260.99 bytes/s\n",
      "Time taken: 0.30653 seconds\n",
      "\n",
      "Sending 85 bytes...\n",
      "Received Data Size: 10, Data Rate: 278.49 bytes/s\n",
      "Time taken: 0.30522 seconds\n",
      "\n",
      "Sending 90 bytes...\n",
      "Received Data Size: 10, Data Rate: 256.91 bytes/s\n",
      "Time taken: 0.35032 seconds\n",
      "\n",
      "Sending 95 bytes...\n",
      "Received Data Size: 10, Data Rate: 271.94 bytes/s\n",
      "Time taken: 0.34934 seconds\n",
      "\n",
      "Sending 100 bytes...\n",
      "Received Data Size: 10, Data Rate: 285.30 bytes/s\n",
      "Time taken: 0.35050 seconds\n",
      "\n",
      "Sending 105 bytes...\n",
      "Received Data Size: 10, Data Rate: 301.03 bytes/s\n",
      "Time taken: 0.34880 seconds\n",
      "\n",
      "Sending 110 bytes...\n",
      "Received Data Size: 10, Data Rate: 314.00 bytes/s\n",
      "Time taken: 0.35032 seconds\n",
      "\n",
      "Sending 115 bytes...\n",
      "Received Data Size: 10, Data Rate: 292.90 bytes/s\n",
      "Time taken: 0.39263 seconds\n",
      "\n",
      "Sending 120 bytes...\n",
      "Received Data Size: 10, Data Rate: 304.27 bytes/s\n",
      "Time taken: 0.39438 seconds\n",
      "\n"
     ]
    },
    {
     "data": {
      "image/png": "[encoded data removed]",
      "text/plain": [
       "<Figure size 500x500 with 1 Axes>"
      ]
     },
     "metadata": {},
     "output_type": "display_data"
    }
   ],
   "source": [
    "import time\n",
    "import matplotlib.pyplot as plt\n",
    "\n",
    "data_rate = []\n",
    "sent_bytes = [5, 10, 15, 20, 25, 30, 35, 40, 45, 50, 55, 60, 65, 70, 75, 80, 85, 90, 95, 100, 105, 110, 115, 120]\n",
    "\n",
    "for size in sent_bytes:\n",
    "    sent_data = 'a' * size  # Create a message of 'size' bytes\n",
    "    print(f\"Sending {size} bytes...\")\n",
    "    \n",
    "    start_time = time.time()\n",
    "    ble.send_command(CMD.CALCULATE_DATA_RATE, sent_data)\n",
    "\n",
    "    received_data = None\n",
    "    while not received_data:\n",
    "        received_data = ble.receive_string(ble.uuid['RX_STRING'])\n",
    "    \n",
    "    end_time = time.time()\n",
    "\n",
    "    rate = size / (end_time - start_time)\n",
    "    data_rate.append(rate)\n",
    "\n",
    "    print(f\"Received {received_data}, Data Rate: {rate:.2f} bytes/s\")\n",
    "    print(f\"Time taken: {end_time - start_time:.5f} seconds\\n\")\n",
    "\n",
    "# Plot the data\n",
    "plt.figure(figsize=(5, 5))\n",
    "plt.scatter(sent_bytes, data_rate, s=10)\n",
    "plt.title(\"Data Rate vs Sent Bytes\")\n",
    "plt.xlabel(\"Sent Bytes\")\n",
    "plt.ylabel(\"Data Rate (bytes/s)\")\n",
    "plt.grid()\n",
    "plt.show()\n"
   ]
  },
  {
   "cell_type": "markdown",
   "metadata": {},
   "source": [
    "<!-- Lab 2 -->"
   ]
  },
  {
   "cell_type": "code",
   "execution_count": 5,
   "metadata": {},
   "outputs": [
    {
     "name": "stdout",
     "output_type": "stream",
     "text": [
      "Collecting matplotlib"
     ]
    },
    {
     "name": "stderr",
     "output_type": "stream",
     "text": [
      "\n",
      "[notice] A new release of pip is available: 24.3.1 -> 25.0\n",
      "[notice] To update, run: python.exe -m pip install --upgrade pip\n"
     ]
    },
    {
     "name": "stdout",
     "output_type": "stream",
     "text": [
      "\n",
      "  Downloading matplotlib-3.10.0-cp313-cp313-win_amd64.whl.metadata (11 kB)\n",
      "Collecting contourpy>=1.0.1 (from matplotlib)\n",
      "  Downloading contourpy-1.3.1-cp313-cp313-win_amd64.whl.metadata (5.4 kB)\n",
      "Collecting cycler>=0.10 (from matplotlib)\n",
      "  Downloading cycler-0.12.1-py3-none-any.whl.metadata (3.8 kB)\n",
      "Collecting fonttools>=4.22.0 (from matplotlib)\n",
      "  Downloading fonttools-4.56.0-cp313-cp313-win_amd64.whl.metadata (103 kB)\n",
      "Collecting kiwisolver>=1.3.1 (from matplotlib)\n",
      "  Downloading kiwisolver-1.4.8-cp313-cp313-win_amd64.whl.metadata (6.3 kB)\n",
      "Requirement already satisfied: numpy>=1.23 in c:\\users\\kd374\\documents\\ece5160\\fastrobots_ble\\lib\\site-packages (from matplotlib) (2.2.2)\n",
      "Requirement already satisfied: packaging>=20.0 in c:\\users\\kd374\\documents\\ece5160\\fastrobots_ble\\lib\\site-packages (from matplotlib) (24.2)\n",
      "Collecting pillow>=8 (from matplotlib)\n",
      "  Downloading pillow-11.1.0-cp313-cp313-win_amd64.whl.metadata (9.3 kB)\n",
      "Collecting pyparsing>=2.3.1 (from matplotlib)\n",
      "  Downloading pyparsing-3.2.1-py3-none-any.whl.metadata (5.0 kB)\n",
      "Requirement already satisfied: python-dateutil>=2.7 in c:\\users\\kd374\\documents\\ece5160\\fastrobots_ble\\lib\\site-packages (from matplotlib) (2.9.0.post0)\n",
      "Requirement already satisfied: six>=1.5 in c:\\users\\kd374\\documents\\ece5160\\fastrobots_ble\\lib\\site-packages (from python-dateutil>=2.7->matplotlib) (1.17.0)\n",
      "Downloading matplotlib-3.10.0-cp313-cp313-win_amd64.whl (8.0 MB)\n",
      "   ---------------------------------------- 0.0/8.0 MB ? eta -:--:--\n",
      "   ----------- ---------------------------- 2.4/8.0 MB 11.9 MB/s eta 0:00:01\n",
      "   ----------------------- ---------------- 4.7/8.0 MB 11.8 MB/s eta 0:00:01\n",
      "   ------------------------------------ --- 7.3/8.0 MB 11.9 MB/s eta 0:00:01\n",
      "   ---------------------------------------- 8.0/8.0 MB 10.8 MB/s eta 0:00:00\n",
      "Downloading contourpy-1.3.1-cp313-cp313-win_amd64.whl (220 kB)\n",
      "Downloading cycler-0.12.1-py3-none-any.whl (8.3 kB)\n",
      "Downloading fonttools-4.56.0-cp313-cp313-win_amd64.whl (2.2 MB)\n",
      "   ---------------------------------------- 0.0/2.2 MB ? eta -:--:--\n",
      "   ---------------------------------------- 2.2/2.2 MB 10.5 MB/s eta 0:00:00\n",
      "Downloading kiwisolver-1.4.8-cp313-cp313-win_amd64.whl (71 kB)\n",
      "Downloading pillow-11.1.0-cp313-cp313-win_amd64.whl (2.6 MB)\n",
      "   ---------------------------------------- 0.0/2.6 MB ? eta -:--:--\n",
      "   ----------------------------------- ---- 2.4/2.6 MB 11.8 MB/s eta 0:00:01\n",
      "   ---------------------------------------- 2.6/2.6 MB 10.6 MB/s eta 0:00:00\n",
      "Downloading pyparsing-3.2.1-py3-none-any.whl (107 kB)\n",
      "Installing collected packages: pyparsing, pillow, kiwisolver, fonttools, cycler, contourpy, matplotlib\n",
      "Successfully installed contourpy-1.3.1 cycler-0.12.1 fonttools-4.56.0 kiwisolver-1.4.8 matplotlib-3.10.0 pillow-11.1.0 pyparsing-3.2.1\n"
     ]
    }
   ],
   "source": [
    "!pip install matplotlib"
   ]
  },
  {
   "cell_type": "code",
   "execution_count": 9,
   "metadata": {},
   "outputs": [
    {
     "name": "stdout",
     "output_type": "stream",
     "text": [
      "Time: 3018571 Pitch: 0.192 Roll: -1.454\n",
      "Time: 3018577 Pitch: 0.220 Roll: -1.351\n",
      "Time: 3018579 Pitch: 0.054 Roll: -1.274\n",
      "Time: 3018581 Pitch: 0.493 Roll: -1.508\n",
      "Time: 3018586 Pitch: 0.485 Roll: -1.428\n",
      "Time: 3018588 Pitch: -0.299 Roll: -1.308\n",
      "Time: 3018590 Pitch: 0.738 Roll: -1.914\n",
      "Time: 3018592 Pitch: -0.082 Roll: -1.618\n",
      "Time: 3018594 Pitch: 0.990 Roll: -1.512\n",
      "Time: 3018596 Pitch: 0.355 Roll: -2.430\n",
      "Time: 3018597 Pitch: -0.191 Roll: -1.534\n",
      "Time: 3018600 Pitch: 0.539 Roll: -0.997\n",
      "Time: 3018602 Pitch: 0.434 Roll: -1.656\n",
      "Time: 3018604 Pitch: 0.189 Roll: -1.434\n",
      "Time: 3018611 Pitch: 0.108 Roll: -1.222\n",
      "Time: 3018613 Pitch: 0.601 Roll: -1.477\n",
      "Time: 3018618 Pitch: 1.024 Roll: -1.300\n",
      "Time: 3018620 Pitch: 0.659 Roll: -2.280\n",
      "Time: 3018622 Pitch: -0.027 Roll: -1.215\n",
      "Time: 3018623 Pitch: 0.357 Roll: -1.264\n",
      "Time: 3018628 Pitch: 0.433 Roll: -1.542\n",
      "Time: 3018630 Pitch: 0.299 Roll: -1.416\n",
      "Time: 3018632 Pitch: 0.543 Roll: -1.955\n",
      "Time: 3018635 Pitch: 0.409 Roll: -1.446\n",
      "Time: 3018637 Pitch: 0.135 Roll: -0.999\n",
      "Time: 3018639 Pitch: 0.988 Roll: -0.988\n",
      "Time: 3018646 Pitch: 0.277 Roll: -1.551\n",
      "Time: 3018648 Pitch: 0.245 Roll: -0.791\n",
      "Time: 3018653 Pitch: 0.598 Roll: -1.687\n",
      "Time: 3018655 Pitch: 0.875 Roll: -1.859\n",
      "Time: 3018656 Pitch: 0.961 Roll: -1.263\n",
      "Time: 3018658 Pitch: 1.164 Roll: -1.414\n",
      "Time: 3018660 Pitch: 1.067 Roll: -1.259\n",
      "Time: 3018662 Pitch: 0.548 Roll: -1.453\n",
      "Time: 3018664 Pitch: 0.381 Roll: -0.926\n",
      "Time: 3018667 Pitch: -0.109 Roll: -1.534\n",
      "Time: 3018669 Pitch: -0.275 Roll: -1.762\n",
      "Time: 3018671 Pitch: -0.027 Roll: -2.004\n",
      "Time: 3018676 Pitch: -0.274 Roll: -1.207\n",
      "Time: 3018678 Pitch: 0.546 Roll: -0.956\n",
      "Time: 3018680 Pitch: 0.000 Roll: -1.342\n",
      "Time: 3018685 Pitch: 0.325 Roll: -1.493\n",
      "Time: 3018687 Pitch: 0.000 Roll: -1.082\n",
      "Time: 3018689 Pitch: 0.628 Roll: -2.104\n",
      "Time: 3018696 Pitch: 0.108 Roll: -1.384\n",
      "Time: 3018698 Pitch: -0.545 Roll: -1.881\n",
      "Time: 3018699 Pitch: 0.027 Roll: -1.727\n",
      "Time: 3018704 Pitch: 0.247 Roll: -1.624\n",
      "Time: 3018706 Pitch: 1.046 Roll: -1.789\n",
      "Time: 3018708 Pitch: 0.189 Roll: -1.652\n"
     ]
    }
   ],
   "source": [
    "#getting data from Arduino:\n",
    "def handle_IMUdata(uuid, byte_array):\n",
    "    string = ble.bytearray_to_string(byte_array)\n",
    "    print(string)\n",
    "    \n",
    "ble.start_notify(ble.uuid['RX_STRING'], handle_IMUdata)\n",
    "ble.send_command(CMD.SEND_IMU_DATA_ACC, '')"
   ]
  },
  {
   "cell_type": "code",
   "execution_count": 10,
   "metadata": {
    "scrolled": true
   },
   "outputs": [
    {
     "name": "stdout",
     "output_type": "stream",
     "text": [
      "no data\n"
     ]
    }
   ],
   "source": [
    "import matplotlib.pyplot as plt\n",
    "import time\n",
    "\n",
    "time = []\n",
    "pitch_data = []\n",
    "roll_data = []\n",
    "def get_data(uuid, byte_array):\n",
    "    global time, pitch_data, roll_data\n",
    "    s = ble.bytearray_to_string(byte_array).strip()\n",
    "    #print(f\"Received data: {s}\")\n",
    "\n",
    "    clean_data = s.replace(\"Time:\", \"\").replace(\"Pitch:\", \"\").replace(\"Roll:\", \"\").strip()\n",
    "    parts = clean_data.split()\n",
    "    #print(parts)\n",
    "\n",
    "    if len(time) == 0:\n",
    "        print(\"no data\")\n",
    "\n",
    "    if len(parts) == 3:\n",
    "\n",
    "        time.append(float(parts[0]))\n",
    "        pitch_data.append(float(parts[1]))\n",
    "        roll_data.append(float(parts[2]))\n",
    "\n",
    "        # print(f\"Extracted -> Time: {t}, Pitch: {p}, Roll: {r}\")\n",
    "\n",
    "ble.start_notify(ble.uuid['RX_STRING'], get_data)\n",
    "ble.send_command(CMD.SEND_IMU_DATA_ACC, '')\n",
    "\n"
   ]
  },
  {
   "cell_type": "code",
   "execution_count": 11,
   "metadata": {},
   "outputs": [],
   "source": [
    "def print_and_plot_data():\n",
    "    print(\"\\n Final Collected Data:\")\n",
    "    for i in range(len(time)):\n",
    "        print(f\"Time: {time[i]} ms | Pitch: {pitch_data[i]}° | Roll: {roll_data[i]}°\")\n",
    "    if len(time) == 0:\n",
    "        print(\"No data to plot.\")\n",
    "        return\n",
    "\n",
    "    plt.figure(figsize=(10, 5))\n",
    "    plt.plot(time, pitch_data, label=\"Pitch\", color=\"blue\", linestyle=\"-\", marker=\"o\")\n",
    "    plt.plot(time, roll_data, label=\"Roll\", color=\"red\", linestyle=\"-\", marker=\"x\")\n",
    "    plt.xlabel(\"Time (ms)\")\n",
    "    plt.ylabel(\"Angle (degrees)\")\n",
    "    plt.title(\"Pitch and Roll Over Time\")\n",
    "    plt.grid(True)\n",
    "    plt.legend()\n",
    "    plt.show(block=True)  # Keeps the plot window open\n"
   ]
  },
  {
   "cell_type": "code",
   "execution_count": 26,
   "metadata": {},
   "outputs": [
    {
     "data": {
      "text/plain": [
       "0"
      ]
     },
     "execution_count": 26,
     "metadata": {},
     "output_type": "execute_result"
    }
   ],
   "source": [
    "len(time)"
   ]
  },
  {
   "cell_type": "code",
   "execution_count": 27,
   "metadata": {},
   "outputs": [
    {
     "data": {
      "text/plain": [
       "0"
      ]
     },
     "execution_count": 27,
     "metadata": {},
     "output_type": "execute_result"
    }
   ],
   "source": [
    "len(pitch_data)"
   ]
  },
  {
   "cell_type": "code",
   "execution_count": 12,
   "metadata": {},
   "outputs": [
    {
     "data": {
      "text/plain": [
       "[<matplotlib.lines.Line2D at 0x1ed65050050>]"
      ]
     },
     "execution_count": 12,
     "metadata": {},
     "output_type": "execute_result"
    },
    {
     "data": {
      "image/png": "[encoded data removed]",
      "text/plain": [
       "<Figure size 640x480 with 1 Axes>"
      ]
     },
     "metadata": {},
     "output_type": "display_data"
    }
   ],
   "source": [
    "time_floatarray = [float(element) for element in time]\n",
    "time_sec = np.divide(time_floatarray, 1000)\n",
    "roll_floatarray = [float(element) for element in roll_data]\n",
    "pitch_floatarray = [float(element) for element in pitch_data]\n",
    "\n",
    "plt.xlabel(\"Time (s)\")\n",
    "plt.ylabel(\"Angle (degrees)\")\n",
    "plt.title(\"Pitch Over Time\")\n",
    "plt.plot(time_sec, pitch_floatarray)\n",
    "#plt.xlabel(\"Time (s)\")\n",
    "#plt.ylabel(\"Angle (degrees)\")\n",
    "#plt.title(\"Roll Over Time\")\n",
    "#plt.plot(time_sec, roll_floatarray)"
   ]
  },
  {
   "cell_type": "code",
   "execution_count": 45,
   "metadata": {},
   "outputs": [
    {
     "name": "stdout",
     "output_type": "stream",
     "text": [
      "[]\n"
     ]
    }
   ],
   "source": [
    "print(pitch_data[100:150])"
   ]
  },
  {
   "cell_type": "code",
   "execution_count": 9,
   "metadata": {},
   "outputs": [],
   "source": [
    "time.clear()\n",
    "pitch_data.clear()\n",
    "roll_data.clear()"
   ]
  },
  {
   "cell_type": "code",
   "execution_count": 13,
   "metadata": {},
   "outputs": [
    {
     "data": {
      "image/png": "[encoded data removed]",
      "text/plain": [
       "<Figure size 1000x600 with 1 Axes>"
      ]
     },
     "metadata": {},
     "output_type": "display_data"
    },
    {
     "name": "stdout",
     "output_type": "stream",
     "text": [
      "2025-02-14 18:37:50,206 |\u001b[32m INFO     \u001b[0m|: Disconnected from C0:83:24:6C:39:3C\n"
     ]
    }
   ],
   "source": [
    "import numpy as np\n",
    "import matplotlib.pyplot as plt\n",
    "\n",
    "# Sample rate and time vector\n",
    "N = len(time_floatarray)  # Number of samples\n",
    "T = ((time_floatarray[N-1] - time_floatarray[0])/ N / 1000)\n",
    "t = np.arange(0, N) * T  # Time vector\n",
    "\n",
    "# Perform Fourier transform\n",
    "pitch_fft = np.fft.fft(pitch_floatarray)\n",
    "roll_fft = np.fft.fft(roll_floatarray)\n",
    "\n",
    "# Frequency axis\n",
    "xf = np.fft.fftfreq(N, T)[:N//2]  # Positive frequencies\n",
    "pitch_fft_mag = 2.0/N * np.abs(pitch_fft[:N//2])  # Magnitude of positive frequencies\n",
    "roll_fft_mag = 2.0/N * np.abs(roll_fft[:N//2])  # Magnitude of positive frequencies\n",
    "\n",
    "# Plot frequency domain data\n",
    "plt.figure(figsize=(10, 6))\n",
    "\n",
    "plt.plot(xf, pitch_fft_mag, label='Pitch FFT', color='blue')\n",
    "plt.plot(xf, roll_fft_mag, label='Roll FFT', color='red')\n",
    "\n",
    "plt.xlabel('Frequency (Hz)')\n",
    "plt.ylabel('Magnitude')\n",
    "plt.title('Frequency Domain Representation')\n",
    "plt.grid(True)\n",
    "plt.legend()\n",
    "\n",
    "plt.show()"
   ]
  },
  {
   "cell_type": "code",
   "execution_count": 14,
   "metadata": {},
   "outputs": [],
   "source": [
    "##GYROSCOPE"
   ]
  },
  {
   "cell_type": "code",
   "execution_count": 5,
   "metadata": {},
   "outputs": [
    {
     "name": "stderr",
     "output_type": "stream",
     "text": [
      "Exception in callback get_data2()() at C:\\Users\\Katyas Laptop\\AppData\\Local\\Temp\\ipykernel_22108\\3234745559.py:8\n",
      "handle: <Handle get_data2()() at C:\\Users\\Katyas Laptop\\AppData\\Local\\Temp\\ipykernel_22108\\3234745559.py:8>\n",
      "Traceback (most recent call last):\n",
      "  File \"C:\\Program Files\\WindowsApps\\PythonSoftwareFoundation.Python.3.13_3.13.752.0_x64__qbz5n2kfra8p0\\Lib\\asyncio\\events.py\", line 89, in _run\n",
      "    self._context.run(self._callback, *self._args)\n",
      "    ~~~~~~~~~~~~~~~~~^^^^^^^^^^^^^^^^^^^^^^^^^^^^^\n",
      "  File \"C:\\Users\\Katyas Laptop\\AppData\\Local\\Temp\\ipykernel_22108\\3234745559.py\", line 17, in get_data2\n",
      "    if len(time) == 0:\n",
      "       ~~~^^^^^^\n",
      "TypeError: object of type 'module' has no len()\n",
      "Exception in callback get_data2()() at C:\\Users\\Katyas Laptop\\AppData\\Local\\Temp\\ipykernel_22108\\3234745559.py:8\n",
      "handle: <Handle get_data2()() at C:\\Users\\Katyas Laptop\\AppData\\Local\\Temp\\ipykernel_22108\\3234745559.py:8>\n",
      "Traceback (most recent call last):\n",
      "  File \"C:\\Program Files\\WindowsApps\\PythonSoftwareFoundation.Python.3.13_3.13.752.0_x64__qbz5n2kfra8p0\\Lib\\asyncio\\events.py\", line 89, in _run\n",
      "    self._context.run(self._callback, *self._args)\n",
      "    ~~~~~~~~~~~~~~~~~^^^^^^^^^^^^^^^^^^^^^^^^^^^^^\n",
      "  File \"C:\\Users\\Katyas Laptop\\AppData\\Local\\Temp\\ipykernel_22108\\3234745559.py\", line 17, in get_data2\n",
      "    if len(time) == 0:\n",
      "       ~~~^^^^^^\n",
      "TypeError: object of type 'module' has no len()\n",
      "Exception in callback get_data2()() at C:\\Users\\Katyas Laptop\\AppData\\Local\\Temp\\ipykernel_22108\\3234745559.py:8\n",
      "handle: <Handle get_data2()() at C:\\Users\\Katyas Laptop\\AppData\\Local\\Temp\\ipykernel_22108\\3234745559.py:8>\n",
      "Traceback (most recent call last):\n",
      "  File \"C:\\Program Files\\WindowsApps\\PythonSoftwareFoundation.Python.3.13_3.13.752.0_x64__qbz5n2kfra8p0\\Lib\\asyncio\\events.py\", line 89, in _run\n",
      "    self._context.run(self._callback, *self._args)\n",
      "    ~~~~~~~~~~~~~~~~~^^^^^^^^^^^^^^^^^^^^^^^^^^^^^\n",
      "  File \"C:\\Users\\Katyas Laptop\\AppData\\Local\\Temp\\ipykernel_22108\\3234745559.py\", line 17, in get_data2\n",
      "    if len(time) == 0:\n",
      "       ~~~^^^^^^\n",
      "TypeError: object of type 'module' has no len()\n",
      "Exception in callback get_data2()() at C:\\Users\\Katyas Laptop\\AppData\\Local\\Temp\\ipykernel_22108\\3234745559.py:8\n",
      "handle: <Handle get_data2()() at C:\\Users\\Katyas Laptop\\AppData\\Local\\Temp\\ipykernel_22108\\3234745559.py:8>\n",
      "Traceback (most recent call last):\n",
      "  File \"C:\\Program Files\\WindowsApps\\PythonSoftwareFoundation.Python.3.13_3.13.752.0_x64__qbz5n2kfra8p0\\Lib\\asyncio\\events.py\", line 89, in _run\n",
      "    self._context.run(self._callback, *self._args)\n",
      "    ~~~~~~~~~~~~~~~~~^^^^^^^^^^^^^^^^^^^^^^^^^^^^^\n",
      "  File \"C:\\Users\\Katyas Laptop\\AppData\\Local\\Temp\\ipykernel_22108\\3234745559.py\", line 17, in get_data2\n",
      "    if len(time) == 0:\n",
      "       ~~~^^^^^^\n",
      "TypeError: object of type 'module' has no len()\n",
      "Exception in callback get_data2()() at C:\\Users\\Katyas Laptop\\AppData\\Local\\Temp\\ipykernel_22108\\3234745559.py:8\n",
      "handle: <Handle get_data2()() at C:\\Users\\Katyas Laptop\\AppData\\Local\\Temp\\ipykernel_22108\\3234745559.py:8>\n",
      "Traceback (most recent call last):\n",
      "  File \"C:\\Program Files\\WindowsApps\\PythonSoftwareFoundation.Python.3.13_3.13.752.0_x64__qbz5n2kfra8p0\\Lib\\asyncio\\events.py\", line 89, in _run\n",
      "    self._context.run(self._callback, *self._args)\n",
      "    ~~~~~~~~~~~~~~~~~^^^^^^^^^^^^^^^^^^^^^^^^^^^^^\n",
      "  File \"C:\\Users\\Katyas Laptop\\AppData\\Local\\Temp\\ipykernel_22108\\3234745559.py\", line 17, in get_data2\n",
      "    if len(time) == 0:\n",
      "       ~~~^^^^^^\n",
      "TypeError: object of type 'module' has no len()\n",
      "Exception in callback get_data2()() at C:\\Users\\Katyas Laptop\\AppData\\Local\\Temp\\ipykernel_22108\\3234745559.py:8\n",
      "handle: <Handle get_data2()() at C:\\Users\\Katyas Laptop\\AppData\\Local\\Temp\\ipykernel_22108\\3234745559.py:8>\n",
      "Traceback (most recent call last):\n",
      "  File \"C:\\Program Files\\WindowsApps\\PythonSoftwareFoundation.Python.3.13_3.13.752.0_x64__qbz5n2kfra8p0\\Lib\\asyncio\\events.py\", line 89, in _run\n",
      "    self._context.run(self._callback, *self._args)\n",
      "    ~~~~~~~~~~~~~~~~~^^^^^^^^^^^^^^^^^^^^^^^^^^^^^\n",
      "  File \"C:\\Users\\Katyas Laptop\\AppData\\Local\\Temp\\ipykernel_22108\\3234745559.py\", line 17, in get_data2\n",
      "    if len(time) == 0:\n",
      "       ~~~^^^^^^\n",
      "TypeError: object of type 'module' has no len()\n",
      "Exception in callback get_data2()() at C:\\Users\\Katyas Laptop\\AppData\\Local\\Temp\\ipykernel_22108\\3234745559.py:8\n",
      "handle: <Handle get_data2()() at C:\\Users\\Katyas Laptop\\AppData\\Local\\Temp\\ipykernel_22108\\3234745559.py:8>\n",
      "Traceback (most recent call last):\n",
      "  File \"C:\\Program Files\\WindowsApps\\PythonSoftwareFoundation.Python.3.13_3.13.752.0_x64__qbz5n2kfra8p0\\Lib\\asyncio\\events.py\", line 89, in _run\n",
      "    self._context.run(self._callback, *self._args)\n",
      "    ~~~~~~~~~~~~~~~~~^^^^^^^^^^^^^^^^^^^^^^^^^^^^^\n",
      "  File \"C:\\Users\\Katyas Laptop\\AppData\\Local\\Temp\\ipykernel_22108\\3234745559.py\", line 17, in get_data2\n",
      "    if len(time) == 0:\n",
      "       ~~~^^^^^^\n",
      "TypeError: object of type 'module' has no len()\n",
      "Exception in callback get_data2()() at C:\\Users\\Katyas Laptop\\AppData\\Local\\Temp\\ipykernel_22108\\3234745559.py:8\n",
      "handle: <Handle get_data2()() at C:\\Users\\Katyas Laptop\\AppData\\Local\\Temp\\ipykernel_22108\\3234745559.py:8>\n",
      "Traceback (most recent call last):\n",
      "  File \"C:\\Program Files\\WindowsApps\\PythonSoftwareFoundation.Python.3.13_3.13.752.0_x64__qbz5n2kfra8p0\\Lib\\asyncio\\events.py\", line 89, in _run\n",
      "    self._context.run(self._callback, *self._args)\n",
      "    ~~~~~~~~~~~~~~~~~^^^^^^^^^^^^^^^^^^^^^^^^^^^^^\n",
      "  File \"C:\\Users\\Katyas Laptop\\AppData\\Local\\Temp\\ipykernel_22108\\3234745559.py\", line 17, in get_data2\n",
      "    if len(time) == 0:\n",
      "       ~~~^^^^^^\n",
      "TypeError: object of type 'module' has no len()\n",
      "Exception in callback get_data2()() at C:\\Users\\Katyas Laptop\\AppData\\Local\\Temp\\ipykernel_22108\\3234745559.py:8\n",
      "handle: <Handle get_data2()() at C:\\Users\\Katyas Laptop\\AppData\\Local\\Temp\\ipykernel_22108\\3234745559.py:8>\n",
      "Traceback (most recent call last):\n",
      "  File \"C:\\Program Files\\WindowsApps\\PythonSoftwareFoundation.Python.3.13_3.13.752.0_x64__qbz5n2kfra8p0\\Lib\\asyncio\\events.py\", line 89, in _run\n",
      "    self._context.run(self._callback, *self._args)\n",
      "    ~~~~~~~~~~~~~~~~~^^^^^^^^^^^^^^^^^^^^^^^^^^^^^\n",
      "  File \"C:\\Users\\Katyas Laptop\\AppData\\Local\\Temp\\ipykernel_22108\\3234745559.py\", line 17, in get_data2\n",
      "    if len(time) == 0:\n",
      "       ~~~^^^^^^\n",
      "TypeError: object of type 'module' has no len()\n",
      "Exception in callback get_data2()() at C:\\Users\\Katyas Laptop\\AppData\\Local\\Temp\\ipykernel_22108\\3234745559.py:8\n",
      "handle: <Handle get_data2()() at C:\\Users\\Katyas Laptop\\AppData\\Local\\Temp\\ipykernel_22108\\3234745559.py:8>\n",
      "Traceback (most recent call last):\n",
      "  File \"C:\\Program Files\\WindowsApps\\PythonSoftwareFoundation.Python.3.13_3.13.752.0_x64__qbz5n2kfra8p0\\Lib\\asyncio\\events.py\", line 89, in _run\n",
      "    self._context.run(self._callback, *self._args)\n",
      "    ~~~~~~~~~~~~~~~~~^^^^^^^^^^^^^^^^^^^^^^^^^^^^^\n",
      "  File \"C:\\Users\\Katyas Laptop\\AppData\\Local\\Temp\\ipykernel_22108\\3234745559.py\", line 17, in get_data2\n",
      "    if len(time) == 0:\n",
      "       ~~~^^^^^^\n",
      "TypeError: object of type 'module' has no len()\n",
      "Exception in callback get_data2()() at C:\\Users\\Katyas Laptop\\AppData\\Local\\Temp\\ipykernel_22108\\3234745559.py:8\n",
      "handle: <Handle get_data2()() at C:\\Users\\Katyas Laptop\\AppData\\Local\\Temp\\ipykernel_22108\\3234745559.py:8>\n",
      "Traceback (most recent call last):\n",
      "  File \"C:\\Program Files\\WindowsApps\\PythonSoftwareFoundation.Python.3.13_3.13.752.0_x64__qbz5n2kfra8p0\\Lib\\asyncio\\events.py\", line 89, in _run\n",
      "    self._context.run(self._callback, *self._args)\n",
      "    ~~~~~~~~~~~~~~~~~^^^^^^^^^^^^^^^^^^^^^^^^^^^^^\n",
      "  File \"C:\\Users\\Katyas Laptop\\AppData\\Local\\Temp\\ipykernel_22108\\3234745559.py\", line 17, in get_data2\n",
      "    if len(time) == 0:\n",
      "       ~~~^^^^^^\n",
      "TypeError: object of type 'module' has no len()\n",
      "Exception in callback get_data2()() at C:\\Users\\Katyas Laptop\\AppData\\Local\\Temp\\ipykernel_22108\\3234745559.py:8\n",
      "handle: <Handle get_data2()() at C:\\Users\\Katyas Laptop\\AppData\\Local\\Temp\\ipykernel_22108\\3234745559.py:8>\n",
      "Traceback (most recent call last):\n",
      "  File \"C:\\Program Files\\WindowsApps\\PythonSoftwareFoundation.Python.3.13_3.13.752.0_x64__qbz5n2kfra8p0\\Lib\\asyncio\\events.py\", line 89, in _run\n",
      "    self._context.run(self._callback, *self._args)\n",
      "    ~~~~~~~~~~~~~~~~~^^^^^^^^^^^^^^^^^^^^^^^^^^^^^\n",
      "  File \"C:\\Users\\Katyas Laptop\\AppData\\Local\\Temp\\ipykernel_22108\\3234745559.py\", line 17, in get_data2\n",
      "    if len(time) == 0:\n",
      "       ~~~^^^^^^\n",
      "TypeError: object of type 'module' has no len()\n",
      "Exception in callback get_data2()() at C:\\Users\\Katyas Laptop\\AppData\\Local\\Temp\\ipykernel_22108\\3234745559.py:8\n",
      "handle: <Handle get_data2()() at C:\\Users\\Katyas Laptop\\AppData\\Local\\Temp\\ipykernel_22108\\3234745559.py:8>\n",
      "Traceback (most recent call last):\n",
      "  File \"C:\\Program Files\\WindowsApps\\PythonSoftwareFoundation.Python.3.13_3.13.752.0_x64__qbz5n2kfra8p0\\Lib\\asyncio\\events.py\", line 89, in _run\n",
      "    self._context.run(self._callback, *self._args)\n",
      "    ~~~~~~~~~~~~~~~~~^^^^^^^^^^^^^^^^^^^^^^^^^^^^^\n",
      "  File \"C:\\Users\\Katyas Laptop\\AppData\\Local\\Temp\\ipykernel_22108\\3234745559.py\", line 17, in get_data2\n",
      "    if len(time) == 0:\n",
      "       ~~~^^^^^^\n",
      "TypeError: object of type 'module' has no len()\n",
      "Exception in callback get_data2()() at C:\\Users\\Katyas Laptop\\AppData\\Local\\Temp\\ipykernel_22108\\3234745559.py:8\n",
      "handle: <Handle get_data2()() at C:\\Users\\Katyas Laptop\\AppData\\Local\\Temp\\ipykernel_22108\\3234745559.py:8>\n",
      "Traceback (most recent call last):\n",
      "  File \"C:\\Program Files\\WindowsApps\\PythonSoftwareFoundation.Python.3.13_3.13.752.0_x64__qbz5n2kfra8p0\\Lib\\asyncio\\events.py\", line 89, in _run\n",
      "    self._context.run(self._callback, *self._args)\n",
      "    ~~~~~~~~~~~~~~~~~^^^^^^^^^^^^^^^^^^^^^^^^^^^^^\n",
      "  File \"C:\\Users\\Katyas Laptop\\AppData\\Local\\Temp\\ipykernel_22108\\3234745559.py\", line 17, in get_data2\n",
      "    if len(time) == 0:\n",
      "       ~~~^^^^^^\n",
      "TypeError: object of type 'module' has no len()\n",
      "Exception in callback get_data2()() at C:\\Users\\Katyas Laptop\\AppData\\Local\\Temp\\ipykernel_22108\\3234745559.py:8\n",
      "handle: <Handle get_data2()() at C:\\Users\\Katyas Laptop\\AppData\\Local\\Temp\\ipykernel_22108\\3234745559.py:8>\n",
      "Traceback (most recent call last):\n",
      "  File \"C:\\Program Files\\WindowsApps\\PythonSoftwareFoundation.Python.3.13_3.13.752.0_x64__qbz5n2kfra8p0\\Lib\\asyncio\\events.py\", line 89, in _run\n",
      "    self._context.run(self._callback, *self._args)\n",
      "    ~~~~~~~~~~~~~~~~~^^^^^^^^^^^^^^^^^^^^^^^^^^^^^\n",
      "  File \"C:\\Users\\Katyas Laptop\\AppData\\Local\\Temp\\ipykernel_22108\\3234745559.py\", line 17, in get_data2\n",
      "    if len(time) == 0:\n",
      "       ~~~^^^^^^\n",
      "TypeError: object of type 'module' has no len()\n",
      "Exception in callback get_data2()() at C:\\Users\\Katyas Laptop\\AppData\\Local\\Temp\\ipykernel_22108\\3234745559.py:8\n",
      "handle: <Handle get_data2()() at C:\\Users\\Katyas Laptop\\AppData\\Local\\Temp\\ipykernel_22108\\3234745559.py:8>\n",
      "Traceback (most recent call last):\n",
      "  File \"C:\\Program Files\\WindowsApps\\PythonSoftwareFoundation.Python.3.13_3.13.752.0_x64__qbz5n2kfra8p0\\Lib\\asyncio\\events.py\", line 89, in _run\n",
      "    self._context.run(self._callback, *self._args)\n",
      "    ~~~~~~~~~~~~~~~~~^^^^^^^^^^^^^^^^^^^^^^^^^^^^^\n",
      "  File \"C:\\Users\\Katyas Laptop\\AppData\\Local\\Temp\\ipykernel_22108\\3234745559.py\", line 17, in get_data2\n",
      "    if len(time) == 0:\n",
      "       ~~~^^^^^^\n",
      "TypeError: object of type 'module' has no len()\n",
      "Exception in callback get_data2()() at C:\\Users\\Katyas Laptop\\AppData\\Local\\Temp\\ipykernel_22108\\3234745559.py:8\n",
      "handle: <Handle get_data2()() at C:\\Users\\Katyas Laptop\\AppData\\Local\\Temp\\ipykernel_22108\\3234745559.py:8>\n",
      "Traceback (most recent call last):\n",
      "  File \"C:\\Program Files\\WindowsApps\\PythonSoftwareFoundation.Python.3.13_3.13.752.0_x64__qbz5n2kfra8p0\\Lib\\asyncio\\events.py\", line 89, in _run\n",
      "    self._context.run(self._callback, *self._args)\n",
      "    ~~~~~~~~~~~~~~~~~^^^^^^^^^^^^^^^^^^^^^^^^^^^^^\n",
      "  File \"C:\\Users\\Katyas Laptop\\AppData\\Local\\Temp\\ipykernel_22108\\3234745559.py\", line 17, in get_data2\n",
      "    if len(time) == 0:\n",
      "       ~~~^^^^^^\n",
      "TypeError: object of type 'module' has no len()\n",
      "Exception in callback get_data2()() at C:\\Users\\Katyas Laptop\\AppData\\Local\\Temp\\ipykernel_22108\\3234745559.py:8\n",
      "handle: <Handle get_data2()() at C:\\Users\\Katyas Laptop\\AppData\\Local\\Temp\\ipykernel_22108\\3234745559.py:8>\n",
      "Traceback (most recent call last):\n",
      "  File \"C:\\Program Files\\WindowsApps\\PythonSoftwareFoundation.Python.3.13_3.13.752.0_x64__qbz5n2kfra8p0\\Lib\\asyncio\\events.py\", line 89, in _run\n",
      "    self._context.run(self._callback, *self._args)\n",
      "    ~~~~~~~~~~~~~~~~~^^^^^^^^^^^^^^^^^^^^^^^^^^^^^\n",
      "  File \"C:\\Users\\Katyas Laptop\\AppData\\Local\\Temp\\ipykernel_22108\\3234745559.py\", line 17, in get_data2\n",
      "    if len(time) == 0:\n",
      "       ~~~^^^^^^\n",
      "TypeError: object of type 'module' has no len()\n",
      "Exception in callback get_data2()() at C:\\Users\\Katyas Laptop\\AppData\\Local\\Temp\\ipykernel_22108\\3234745559.py:8\n",
      "handle: <Handle get_data2()() at C:\\Users\\Katyas Laptop\\AppData\\Local\\Temp\\ipykernel_22108\\3234745559.py:8>\n",
      "Traceback (most recent call last):\n",
      "  File \"C:\\Program Files\\WindowsApps\\PythonSoftwareFoundation.Python.3.13_3.13.752.0_x64__qbz5n2kfra8p0\\Lib\\asyncio\\events.py\", line 89, in _run\n",
      "    self._context.run(self._callback, *self._args)\n",
      "    ~~~~~~~~~~~~~~~~~^^^^^^^^^^^^^^^^^^^^^^^^^^^^^\n",
      "  File \"C:\\Users\\Katyas Laptop\\AppData\\Local\\Temp\\ipykernel_22108\\3234745559.py\", line 17, in get_data2\n",
      "    if len(time) == 0:\n",
      "       ~~~^^^^^^\n",
      "TypeError: object of type 'module' has no len()\n",
      "Exception in callback get_data2()() at C:\\Users\\Katyas Laptop\\AppData\\Local\\Temp\\ipykernel_22108\\3234745559.py:8\n",
      "handle: <Handle get_data2()() at C:\\Users\\Katyas Laptop\\AppData\\Local\\Temp\\ipykernel_22108\\3234745559.py:8>\n",
      "Traceback (most recent call last):\n",
      "  File \"C:\\Program Files\\WindowsApps\\PythonSoftwareFoundation.Python.3.13_3.13.752.0_x64__qbz5n2kfra8p0\\Lib\\asyncio\\events.py\", line 89, in _run\n",
      "    self._context.run(self._callback, *self._args)\n",
      "    ~~~~~~~~~~~~~~~~~^^^^^^^^^^^^^^^^^^^^^^^^^^^^^\n",
      "  File \"C:\\Users\\Katyas Laptop\\AppData\\Local\\Temp\\ipykernel_22108\\3234745559.py\", line 17, in get_data2\n",
      "    if len(time) == 0:\n",
      "       ~~~^^^^^^\n",
      "TypeError: object of type 'module' has no len()\n",
      "Exception in callback get_data2()() at C:\\Users\\Katyas Laptop\\AppData\\Local\\Temp\\ipykernel_22108\\3234745559.py:8\n",
      "handle: <Handle get_data2()() at C:\\Users\\Katyas Laptop\\AppData\\Local\\Temp\\ipykernel_22108\\3234745559.py:8>\n",
      "Traceback (most recent call last):\n",
      "  File \"C:\\Program Files\\WindowsApps\\PythonSoftwareFoundation.Python.3.13_3.13.752.0_x64__qbz5n2kfra8p0\\Lib\\asyncio\\events.py\", line 89, in _run\n",
      "    self._context.run(self._callback, *self._args)\n",
      "    ~~~~~~~~~~~~~~~~~^^^^^^^^^^^^^^^^^^^^^^^^^^^^^\n",
      "  File \"C:\\Users\\Katyas Laptop\\AppData\\Local\\Temp\\ipykernel_22108\\3234745559.py\", line 17, in get_data2\n",
      "    if len(time) == 0:\n",
      "       ~~~^^^^^^\n",
      "TypeError: object of type 'module' has no len()\n",
      "Exception in callback get_data2()() at C:\\Users\\Katyas Laptop\\AppData\\Local\\Temp\\ipykernel_22108\\3234745559.py:8\n",
      "handle: <Handle get_data2()() at C:\\Users\\Katyas Laptop\\AppData\\Local\\Temp\\ipykernel_22108\\3234745559.py:8>\n",
      "Traceback (most recent call last):\n",
      "  File \"C:\\Program Files\\WindowsApps\\PythonSoftwareFoundation.Python.3.13_3.13.752.0_x64__qbz5n2kfra8p0\\Lib\\asyncio\\events.py\", line 89, in _run\n",
      "    self._context.run(self._callback, *self._args)\n",
      "    ~~~~~~~~~~~~~~~~~^^^^^^^^^^^^^^^^^^^^^^^^^^^^^\n",
      "  File \"C:\\Users\\Katyas Laptop\\AppData\\Local\\Temp\\ipykernel_22108\\3234745559.py\", line 17, in get_data2\n",
      "    if len(time) == 0:\n",
      "       ~~~^^^^^^\n",
      "TypeError: object of type 'module' has no len()\n",
      "Exception in callback get_data2()() at C:\\Users\\Katyas Laptop\\AppData\\Local\\Temp\\ipykernel_22108\\3234745559.py:8\n",
      "handle: <Handle get_data2()() at C:\\Users\\Katyas Laptop\\AppData\\Local\\Temp\\ipykernel_22108\\3234745559.py:8>\n",
      "Traceback (most recent call last):\n",
      "  File \"C:\\Program Files\\WindowsApps\\PythonSoftwareFoundation.Python.3.13_3.13.752.0_x64__qbz5n2kfra8p0\\Lib\\asyncio\\events.py\", line 89, in _run\n",
      "    self._context.run(self._callback, *self._args)\n",
      "    ~~~~~~~~~~~~~~~~~^^^^^^^^^^^^^^^^^^^^^^^^^^^^^\n",
      "  File \"C:\\Users\\Katyas Laptop\\AppData\\Local\\Temp\\ipykernel_22108\\3234745559.py\", line 17, in get_data2\n",
      "    if len(time) == 0:\n",
      "       ~~~^^^^^^\n",
      "TypeError: object of type 'module' has no len()\n"
     ]
    }
   ],
   "source": [
    "import matplotlib.pyplot as plt\n",
    "import time\n",
    "\n",
    "time_gyro = []\n",
    "pitch_data_gyro = []\n",
    "roll_data_gyro = []\n",
    "yaw_data_gyro = []\n",
    "def get_data2(uuid, byte_array):\n",
    "    global time_gyro, pitch_data_gyro, roll_data_gyro, yaw_data_gyro\n",
    "    m = ble.bytearray_to_string(byte_array).strip()\n",
    "    #print(f\"Received data: {m}\")\n",
    "\n",
    "    clean_data = m.replace(\"Time:\", \"\").replace(\"Pitch:\", \"\").replace(\"Roll:\", \"\").replace(\"Yaw:\", \"\").strip()\n",
    "    parts = clean_data.split()\n",
    "    #print(parts)\n",
    "\n",
    "    if len(time_gyro) == 0:\n",
    "        print(\"no data\")\n",
    "\n",
    "    if len(parts) == 4:\n",
    "\n",
    "        time_gyro.append(float(parts[0]))\n",
    "        pitch_data_gyro.append(float(parts[1]))\n",
    "        roll_data_gyro.append(float(parts[2]))\n",
    "        yaw_data_gyro.append(float(parts[3]))\n",
    "\n",
    "        # print(f\"Extracted -> Time: {t}, Pitch: {p}, Roll: {r}, Yaw: {y}\")\n",
    "\n",
    "ble.start_notify(ble.uuid['RX_STRING'], get_data2)\n",
    "ble.send_command(CMD.SEND_IMU_DATA_GYRO, '')\n"
   ]
  },
  {
   "cell_type": "code",
   "execution_count": 18,
   "metadata": {},
   "outputs": [
    {
     "name": "stdout",
     "output_type": "stream",
     "text": [
      "2025-02-11 21:52:49,064 |\u001b[32m INFO     \u001b[0m|: Received data: TIME = 93133, PITCH = 0.13600, ROLL = 0.19000\n",
      "(i*100/200:.2f)% done"
     ]
    },
    {
     "data": {
      "image/png": "[encoded data removed]",
      "text/plain": [
       "<Figure size 640x480 with 1 Axes>"
      ]
     },
     "metadata": {},
     "output_type": "display_data"
    },
    {
     "data": {
      "text/plain": [
       "<Figure size 640x480 with 0 Axes>"
      ]
     },
     "metadata": {},
     "output_type": "display_data"
    },
    {
     "name": "stdout",
     "output_type": "stream",
     "text": [
      "2025-02-11 21:59:52,147 |\u001b[32m INFO     \u001b[0m|: Disconnected from C0:83:24:6C:39:3C\n"
     ]
    }
   ],
   "source": [
    "#get the data sent from the Arduino\n",
    "\n",
    "def parse_attitude( data: str ) -> tuple[int, float, float]:\n",
    "  data_components = data.split(\"/\")\n",
    "  t = data_components[0]\n",
    "  p = data_components[1]\n",
    "  r = data_components[2]\n",
    "  return int(t), float(p), float(r)\n",
    "\n",
    "ble.send_command(CMD.SEND_IMU_DATA_ACC, \"\")\n",
    "data = ble.receive_string(ble.uuid['RX_STRING'])\n",
    "t, p, r = parse_attitude(data)\n",
    "LOG.info(f\"Received data: TIME = {t}, PITCH = {p:.5f}, ROLL = {r:.5f}\")\n"
   ]
  },
  {
   "cell_type": "code",
   "execution_count": null,
   "metadata": {},
   "outputs": [],
   "source": [
    "#get the data sent from the Arduino\n",
    "\n",
    "def parse_attitude( data: str ) -> tuple[int, float, float]:\n",
    "    for i in data: \n",
    "        data_components = data.split(\"/\")\n",
    "        t = data_components[0]\n",
    "        p = data_components[1]\n",
    "        r = data_components[2]\n",
    "    return int(t), float(p), float(r)\n",
    "\n",
    "ble.send_command(CMD.SEND_IMU_DATA_ACC, \"\")\n",
    "data = ble.receive_string(ble.uuid['RX_STRING'])\n",
    "t, p, r = parse_attitude(data)\n",
    "LOG.info(f\"Received data: TIME = {t}, PITCH = {p:.5f}, ROLL = {r:.5f}\")\n",
    "\n",
    "import matplotlib.pyplot as plt\n",
    "time_data = []\n",
    "pitch_data = []\n",
    "roll_data = []\n",
    "\n",
    "for i in range(10):\n",
    "    ble.send_command(CMD.SEND_IMU_DATA_ACC, '')\n",
    "    data = ble.receive_string(ble.uuid['RX_STRING'])\n",
    "    t, p, r = parse_attitude(data)\n",
    "    time_data.append(t)\n",
    "    pitch_data.append(p)\n",
    "    roll_data.append(r)\n",
    "\n",
    "    print(f\"(i*100/200:.2f)% done\", end = '\\r')\n",
    "\n",
    "plt.plot(time_data, pitch_data, label = 'Pitch')\n",
    "plt.plot(time_data, roll_data, label = 'Roll')\n",
    "plt.legend()\n",
    "plt.show()\n",
    "plt.clf()"
   ]
  },
  {
   "cell_type": "code",
   "execution_count": null,
   "metadata": {},
   "outputs": [
    {
     "name": "stdout",
     "output_type": "stream",
     "text": [
      "Collected 0/200 data points"
     ]
    }
   ],
   "source": [
    "import matplotlib.pyplot as plt\n",
    "import time\n",
    "\n",
    "def parse_attitude(data: str):\n",
    "    \"\"\"Parse received data string into a list of (time, pitch, roll) tuples.\"\"\"\n",
    "    try:\n",
    "        lines = data.strip().split(\"\\n\")  # Split multiple lines\n",
    "        parsed_data = []\n",
    "        for line in lines:\n",
    "            components = line.split(\"/\")\n",
    "            if len(components) == 3:\n",
    "                t, p, r = int(components[0]), float(components[1]), float(components[2])\n",
    "                parsed_data.append((t, p, r))\n",
    "    except ValueError:\n",
    "        return []  # Return empty list if parsing fails\n",
    "\n",
    "# Data storage\n",
    "time_data, pitch_data, roll_data = [], [], []\n",
    "\n",
    "# Send command to request batch data\n",
    "ble.send_command(CMD.SEND_DATA, \"\")\n",
    "\n",
    "start_time = time.time()\n",
    "MAX_POINTS = 200  # Adjust as needed\n",
    "\n",
    "while len(time_data) < MAX_POINTS:\n",
    "    data = ble.receive_string(ble.uuid['RX_STRING'])  # Get multiple points at once\n",
    "    batch_data = parse_attitude(data)\n",
    "    \n",
    "    if batch_data:\n",
    "        for t, p, r in batch_data:\n",
    "            time_data.append(t)\n",
    "            pitch_data.append(p)\n",
    "            roll_data.append(r)\n",
    "    \n",
    "    print(f\"Collected {len(time_data)}/{MAX_POINTS} data points\", end='\\r')\n",
    "\n",
    "# Stop data collection\n",
    "#ble.send_command(CMD.STOP_DATA, \"\")\n",
    "\n",
    "# Plot results\n",
    "plt.plot(time_data, pitch_data, label='Pitch')\n",
    "plt.plot(time_data, roll_data, label='Roll')\n",
    "plt.legend()\n",
    "plt.show()\n"
   ]
  },
  {
   "cell_type": "markdown",
   "metadata": {},
   "source": [
    "## Disconnect"
   ]
  },
  {
   "cell_type": "markdown",
   "metadata": {
    "tags": []
   },
   "source": [
    "# Disconnect\n",
    "ble.disconnect()"
   ]
  },
  {
   "cell_type": "code",
   "execution_count": null,
   "metadata": {},
   "outputs": [],
   "source": []
  },
  {
   "cell_type": "code",
   "execution_count": null,
   "metadata": {},
   "outputs": [],
   "source": []
  },
  {
   "cell_type": "code",
   "execution_count": null,
   "metadata": {},
   "outputs": [],
   "source": []
  },
  {
   "cell_type": "code",
   "execution_count": null,
   "metadata": {},
   "outputs": [],
   "source": []
  }
 ],
 "metadata": {
  "kernelspec": {
   "display_name": "Python 3 (ipykernel)",
   "language": "python",
   "name": "python3"
  },
  "language_info": {
   "codemirror_mode": {
    "name": "ipython",
    "version": 3
   },
   "file_extension": ".py",
   "mimetype": "text/x-python",
   "name": "python",
   "nbconvert_exporter": "python",
   "pygments_lexer": "ipython3",
   "version": "3.13.2"
  }
 },
 "nbformat": 4,
 "nbformat_minor": 4
}
