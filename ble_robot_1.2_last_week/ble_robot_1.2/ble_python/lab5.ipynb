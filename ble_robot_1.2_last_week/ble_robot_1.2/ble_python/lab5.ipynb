{
 "cells": [
  {
   "cell_type": "code",
   "execution_count": 88,
   "id": "c890f873-bc4b-40fb-b258-835b40d39646",
   "metadata": {},
   "outputs": [
    {
     "name": "stdout",
     "output_type": "stream",
     "text": [
      "The autoreload extension is already loaded. To reload it, use:\n",
      "  %reload_ext autoreload\n"
     ]
    }
   ],
   "source": [
    "%load_ext autoreload\n",
    "%autoreload 2\n",
    "\n",
    "from ble import get_ble_controller\n",
    "from base_ble import LOG\n",
    "from cmd_types import CMD\n",
    "import time\n",
    "import numpy as np\n",
    "\n",
    "LOG.propagate = False"
   ]
  },
  {
   "cell_type": "code",
   "execution_count": 89,
   "id": "6a146708-98ff-48ee-98d5-4896ad9e98b7",
   "metadata": {},
   "outputs": [
    {
     "name": "stdout",
     "output_type": "stream",
     "text": [
      "2025-03-11 00:27:02,318 |\u001b[32m INFO     \u001b[0m|: Already connected to a BLE device\n"
     ]
    }
   ],
   "source": [
    "# Get ArtemisBLEController object\n",
    "ble = get_ble_controller()\n",
    "\n",
    "# Connect to the Artemis Device\n",
    "ble.connect()"
   ]
  },
  {
   "cell_type": "code",
   "execution_count": 114,
   "id": "f5ec3ef4-6c25-4e44-a774-44060dc69843",
   "metadata": {},
   "outputs": [
    {
     "name": "stdout",
     "output_type": "stream",
     "text": [
      "2025-03-11 00:44:19,164 |\u001b[32m INFO     \u001b[0m|: Disconnected from C0:83:24:6C:39:3C\n"
     ]
    }
   ],
   "source": [
    "ble.send_command(CMD.START_PID, \"0.0|304\") "
   ]
  },
  {
   "cell_type": "code",
   "execution_count": 103,
   "id": "c096fef7-f2c0-41d0-8c45-77bd521cc7d9",
   "metadata": {},
   "outputs": [],
   "source": [
    "\n",
    "time_data = []\n",
    "tof_1 = []\n",
    "kp_pwm = []\n",
    "error_val = []\n",
    "tof_2 = []\n",
    "\n",
    "time_data.clear()\n",
    "tof_1.clear()\n",
    "tof_2.clear()\n",
    "kp_pwm.clear()\n",
    "error_val.clear()\n",
    "\n",
    "# print(len(time_data))\n",
    "# print(len(tof_1))\n",
    "# print(len(kp_pwm))\n",
    "# print(len(error_va/[]l))\n",
    "\n",
    "\n",
    "\n",
    "count = 0\n",
    "\n",
    "\n",
    "def notif_PID_data(uuid, byte_array):\n",
    "    global time_data\n",
    "    global tof_1\n",
    "    global kp_pwm\n",
    "    global error_val\n",
    "    global target_dist\n",
    "    global kp_val\n",
    "    \n",
    "\n",
    "    global count\n",
    "\n",
    "    string = ble.bytearray_to_string(byte_array)\n",
    "    data = string.split(\"|\")\n",
    "    \n",
    "    # Convert the string values to floats and append to the lists\n",
    "    time_data.append(int(data[0]))  # Convert the first value to int for time\n",
    "    tof_2.append(float(data[1]))  # Convert tof to float\n",
    "    kp_pwm.append(float(data[2]))  # Convert kp_pwm to float\n",
    "    error_val.append(float(data[3]))  # Convert error_val to float\n",
    "    target_dist = float(data[4])\n",
    "    kp_val = float(data[5])\n",
    "\n",
    "    count = 50\n",
    "\n",
    "    # print(\"count: \", count)\n",
    "\n"
   ]
  },
  {
   "cell_type": "code",
   "execution_count": 104,
   "id": "34357fae-50c2-426e-8dfe-7e65391bdd92",
   "metadata": {},
   "outputs": [],
   "source": [
    "ble.start_notify(ble.uuid['RX_STRING'], notif_PID_data)\n",
    "ble.send_command(CMD.SEND_PID_CONTROL_DATA, \"\")"
   ]
  },
  {
   "cell_type": "code",
   "execution_count": 105,
   "id": "61989c4b-23b9-48fe-a093-7b33d9f15ad4",
   "metadata": {},
   "outputs": [],
   "source": [
    "ble.stop_notify(ble.uuid['RX_STRING'])"
   ]
  },
  {
   "cell_type": "code",
   "execution_count": 106,
   "id": "f5c95d36-ad41-408d-afcb-296aa6c44324",
   "metadata": {},
   "outputs": [
    {
     "name": "stdout",
     "output_type": "stream",
     "text": [
      "0.15\n"
     ]
    }
   ],
   "source": [
    "print(kp_val)"
   ]
  },
  {
   "cell_type": "code",
   "execution_count": 107,
   "id": "edad8eb9-0880-4b5e-a6ab-9955fbbbc069",
   "metadata": {},
   "outputs": [
    {
     "name": "stdout",
     "output_type": "stream",
     "text": [
      "6\n",
      "0\n",
      "6\n",
      "6\n"
     ]
    }
   ],
   "source": [
    "print(len(time_data))\n",
    "print(len(tof_1))\n",
    "print(len(kp_pwm))\n",
    "print(len(error_val))"
   ]
  },
  {
   "cell_type": "code",
   "execution_count": 108,
   "id": "1c7ba57b-349b-4629-9426-dbc21eac6943",
   "metadata": {},
   "outputs": [
    {
     "name": "stdout",
     "output_type": "stream",
     "text": [
      "304.0\n"
     ]
    }
   ],
   "source": [
    "print(target_dist)"
   ]
  },
  {
   "cell_type": "code",
   "execution_count": 109,
   "id": "dfa2aa5b-177d-4d8c-a69a-ee677af4563a",
   "metadata": {},
   "outputs": [
    {
     "name": "stdout",
     "output_type": "stream",
     "text": [
      "0.15\n"
     ]
    }
   ],
   "source": [
    "print(kp_val)"
   ]
  },
  {
   "cell_type": "code",
   "execution_count": 110,
   "id": "d80de972-ba72-4036-81bb-7d954fd3337c",
   "metadata": {},
   "outputs": [
    {
     "name": "stdout",
     "output_type": "stream",
     "text": [
      "[-44.25, -44.25, -44.25, -44.25, -44.25, -44.25]\n"
     ]
    }
   ],
   "source": [
    "print(kp_pwm)"
   ]
  },
  {
   "cell_type": "code",
   "execution_count": 111,
   "id": "494fb3e2-4754-4124-a109-84aa02e8be42",
   "metadata": {},
   "outputs": [
    {
     "name": "stdout",
     "output_type": "stream",
     "text": [
      "[-295.0, -295.0, -295.0, -295.0, -295.0, -295.0]\n"
     ]
    }
   ],
   "source": [
    "print(error_val)"
   ]
  },
  {
   "cell_type": "code",
   "execution_count": 112,
   "id": "c972299a-167d-4373-a432-03931c153956",
   "metadata": {},
   "outputs": [
    {
     "name": "stdout",
     "output_type": "stream",
     "text": [
      "[]\n"
     ]
    }
   ],
   "source": [
    "print(tof_1)"
   ]
  },
  {
   "cell_type": "code",
   "execution_count": 113,
   "id": "966c84b2-b9af-45aa-bf65-a37cb36bacc8",
   "metadata": {},
   "outputs": [
    {
     "name": "stdout",
     "output_type": "stream",
     "text": [
      "[125.0, 125.0, 125.0, 125.0, 125.0, 125.0]\n"
     ]
    }
   ],
   "source": [
    "print(tof_2)"
   ]
  },
  {
   "cell_type": "code",
   "execution_count": 68,
   "id": "8d6cf9e5-bc63-4713-a365-f7fbf25d5cd2",
   "metadata": {},
   "outputs": [
    {
     "name": "stdout",
     "output_type": "stream",
     "text": [
      "[665568, 665579, 665590, 665601, 665616, 665626, 665636, 665646, 665656, 665667, 665678, 665689, 665700, 665711, 665726, 665731, 665742, 665749, 665770, 665780, 665785, 665800, 665805, 665810, 665821, 665827, 665838, 665849, 665860, 665874, 665879, 665893, 665904, 665921, 665932]\n"
     ]
    }
   ],
   "source": [
    "print(time_data)"
   ]
  },
  {
   "cell_type": "code",
   "execution_count": 69,
   "id": "d9ba464b-49e1-4c9f-98d3-665a1828b80c",
   "metadata": {},
   "outputs": [
    {
     "data": {
      "image/png": "[encoded data removed]",
      "text/plain": [
       "<Figure size 640x480 with 1 Axes>"
      ]
     },
     "metadata": {},
     "output_type": "display_data"
    }
   ],
   "source": [
    "import matplotlib.pyplot as plt\n",
    "\n",
    "# Plot the distance vs time\n",
    "plt.plot(time_data, tof_1)\n",
    "plt.xlabel('Time (ms)')\n",
    "\n",
    "plt.ylabel('Distance (mm)')\n",
    "plt.title('Distance vs Time')\n",
    "plt.show()"
   ]
  },
  {
   "cell_type": "code",
   "execution_count": 70,
   "id": "029ff34f-2fe8-445b-8af2-4917cb4d2065",
   "metadata": {},
   "outputs": [
    {
     "data": {
      "image/png": "[encoded data removed]",
      "text/plain": [
       "<Figure size 640x480 with 1 Axes>"
      ]
     },
     "metadata": {},
     "output_type": "display_data"
    }
   ],
   "source": [
    "import matplotlib.pyplot as plt\n",
    "\n",
    "# Plot the pwm vs time\n",
    "plt.plot(time_data, kp_pwm)\n",
    "plt.xlabel('Time (ms)')\n",
    "\n",
    "plt.ylabel('PWM')\n",
    "plt.title('PWM vs Time')\n",
    "plt.show()"
   ]
  },
  {
   "cell_type": "code",
   "execution_count": null,
   "id": "88967c74-0859-4554-99d3-bbeea70cbfe9",
   "metadata": {},
   "outputs": [],
   "source": []
  }
 ],
 "metadata": {
  "kernelspec": {
   "display_name": "Python 3 (ipykernel)",
   "language": "python",
   "name": "python3"
  },
  "language_info": {
   "codemirror_mode": {
    "name": "ipython",
    "version": 3
   },
   "file_extension": ".py",
   "mimetype": "text/x-python",
   "name": "python",
   "nbconvert_exporter": "python",
   "pygments_lexer": "ipython3",
   "version": "3.13.2"
  }
 },
 "nbformat": 4,
 "nbformat_minor": 5
}
